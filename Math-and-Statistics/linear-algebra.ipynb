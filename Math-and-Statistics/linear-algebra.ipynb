{
 "cells": [
  {
   "cell_type": "markdown",
   "metadata": {},
   "source": [
    "# <ins>**Linear Algebra**</ins>"
   ]
  },
  {
   "cell_type": "markdown",
   "metadata": {},
   "source": [
    "## **Importance to Data Science**\n",
    "Data is often represented in vectors and matrices. Linear algebra is the tool to handle and manipulate those. Linear algebra plays an important role in machine learning. For example one of the most simplest and common machine learning algorithm is *linear regression* which uses linear algebra to find best-fit line for predicting outcomes. It's also present in *optimization*, *neural networks*, *image recognition*, *recommendation systems* and many more areas. Knowing linear algebra is essential to computer and data science. "
   ]
  },
  {
   "cell_type": "markdown",
   "metadata": {},
   "source": [
    "****\n",
    "\n",
    "## **Vectors**\n",
    "\n",
    "### <ins>What are Vectors?</ins>\n",
    "A vector is essentially an ordered list of numbers. They are used to represent data points, measurements or any kind of numeric information in a structured way. \n",
    "\n",
    "### <ins>Characteristics of Vectors</ins>\n",
    "\n",
    "#### 1. Dimension\n",
    "- The number of elements in a vector is called its dimension. For example a vector with 3 elements is called a 3-dimensional vector.\n",
    "\n",
    "#### 2. Notation\n",
    "- Vectors are often written as a column of numbers like this:\n",
    "\n",
    "$$\n",
    "\\mathbf{v} = \\begin{pmatrix} 1 \\\\ 2 \\\\ 3 \\end{pmatrix}\n",
    "$$\n",
    "\n",
    "&nbsp;&nbsp;&nbsp;&nbsp;or as a row of numbers:\n",
    "\n",
    "$$\n",
    "\\mathbf{v} = (1, 2, 3)\n",
    "$$\n",
    "\n",
    "#### 3. Components\n",
    "- Each number in the vector is called a component. For example in the vector $\\mathbf{v} = (1, 2, 3)$, the components are 1, 2 and 3.\n",
    "\n",
    "### <ins>Python Examples of Creating Vectors</ins>\n",
    "In Python we could use NumPy library for creating vectors. Creating a row vector is easy but the problem is that NumPy will treat column vectors like regular 1D arrays unless we explicitly shape it. This would make the column vector a 2D vector.\n",
    "\n",
    "#### Row Vector Example:"
   ]
  },
  {
   "cell_type": "code",
   "execution_count": 1,
   "metadata": {},
   "outputs": [
    {
     "name": "stdout",
     "output_type": "stream",
     "text": [
      "Row vector: \n",
      "[1 2 3]\n"
     ]
    }
   ],
   "source": [
    "import numpy as np\n",
    "\n",
    "row_vector = np.array([1, 2, 3])\n",
    "print(f\"Row vector: \\n{row_vector}\")"
   ]
  },
  {
   "cell_type": "markdown",
   "metadata": {},
   "source": [
    "#### Column Vector Example:"
   ]
  },
  {
   "cell_type": "code",
   "execution_count": 2,
   "metadata": {},
   "outputs": [
    {
     "name": "stdout",
     "output_type": "stream",
     "text": [
      "Column vector: \n",
      "[[1]\n",
      " [2]\n",
      " [3]]\n"
     ]
    }
   ],
   "source": [
    "column_vector = np.array([[1], [2], [3]])\n",
    "print(f\"Column vector: \\n{column_vector}\")"
   ]
  },
  {
   "cell_type": "markdown",
   "metadata": {},
   "source": [
    "### <ins>How Vectors are Used in Data Science</ins>\n",
    "Here are some common use cases of vectors in data science:\n",
    "\n",
    "#### 1. Data Representation:\n",
    "- Features of a Data point: Each data point in a dataset can be represented as a vector. For example, if you are working with a dataset of bulking pandas where each panda is described by its height (in meters), weight (in kilograms) and age (in years), each panda can be represented as a 3-dimensional vector:\n",
    "\n",
    "$$\n",
    "Panda 1 = (1.0, 125.0, 8) \\\\\n",
    "Panda 2 = (1.1, 140.0, 15)\n",
    "$$\n",
    "\n",
    "#### 2. Operations on Vectors:\n",
    "- **Addition:** Vectors can be added together by adding their corresponding components. If $a = (1, 2)$ and $b = (3, 4)$, then: \n",
    "$$\n",
    "a + b = (1 + 3, 3 + 4) = (4, 6)\n",
    "$$\n",
    "\n",
    "- **Scalar Multiplication:** A vector can be multiplied by a scalar (a single number). You multiply each component with the scalar number. If $\\mathbf{v} = (2, 3)$ and the scalar is 4, then:\n",
    "$$\n",
    "4\\mathbf{v} = 4(2, 3) = (4 \\times{} 2, 4 \\times{} 3) = (8, 12)\n",
    "$$ \n",
    "\n",
    "#### 3. Distance and Similarity:\n",
    "- **Euclidean Distance:** The Euclidean distance between two vectors is a measure how far apart they are, the similarity between two data points. Often times distance and similarity are considered separate things. Distance tells you how far apart the vectors are while similarity tells you how similar or aligned the vectors are. Distance ranges from 0 to infinity while similarity can have negative metrics. Choosing which one to use depends on application. For example distance for clustering algorithms and similarity for information retrieval and text analysis. We are not going that deep here yet and focus on simpler things like Euclidean distance. For vectors $a = (x_1, y_1)$ and $b = (x_2, y_2)$, the distance is given by:\n",
    "$$\n",
    "Distance = \\sqrt{(x_2 - x_ 1)^2 + (y_2 - y_1)^2}\n",
    "$$\n",
    "\n",
    "#### 4. Direction and Magnitude:\n",
    "- **Direction:** The direction of the vector is the way it points in space. This is important in multiple disciplines like physics and engineering but also in understanding the orientation of data points in data science.\n",
    "\n",
    "- **Magnitude:** In this context magnitude means the measured length of the vector $\\mathbf{v} = (x, y)$ in space and is given by:\n",
    "$$\n",
    "||\\mathbf{v}|| = \\sqrt{x^2 + y^2}\n",
    "$$\n",
    "\n",
    "&nbsp;&nbsp;&nbsp;&nbsp;and more generally depending on number of dimensions for vector $\\mathbf{v} = (v_1, v_2...,v_n)$:\n",
    "\n",
    "$$\n",
    "||\\mathbf{v}|| = \\sqrt{v^2_1 + v^2_2 + ... + v^2_n}\n",
    "$$\n",
    "\n",
    "&nbsp;&nbsp;&nbsp;&nbsp;Example: consider $\\mathbf{v} = (3, 4)$:\n",
    "\n",
    "$$\n",
    "||\\mathbf{v}|| = \\sqrt{3^2 + 4^4} = \\sqrt{9 + 16} = \\sqrt{25} = 5\n",
    "$$\n",
    "\n",
    "&nbsp;&nbsp;&nbsp;&nbsp;This means the magnitude for the vector is 5.\n",
    "\n",
    "- **Further Understanding the Magnitude:** In context of vectors, the notation $||\\mathbf{v}||$ (read as *\"norm of v\"* or *\"magnitude of v\"*) is just a fancy way of saying magnitude. The double vertical bars $|| \\; ||$ are used to denote the magnitude of a vector. You do not have to go deeper interpreting it!\n",
    "\n",
    "### <ins>Python Examples of Vector Operations and Calculations</ins>\n",
    "For the sake of simplicity we are going to use functions in NumPy and not write everything from a scratch. This is how it would work in real life as well unless you need to build your own custom function. **Do not re-invent the wheel!** Here are few examples of manipulating vectors in python:\n",
    "\n",
    "#### Addition, Subtraction and Scalar Multiplication:\n",
    "I know there was nothing about subtraction above but it works the same as addition. Lets use the vectors above, $a = (1, 2)$ and $b = (3, 4)$:"
   ]
  },
  {
   "cell_type": "code",
   "execution_count": 3,
   "metadata": {},
   "outputs": [
    {
     "name": "stdout",
     "output_type": "stream",
     "text": [
      "Addition of vectors a and b is: [4 6]\n",
      "Subtraction of vectors a and b is: [-2 -2]\n"
     ]
    }
   ],
   "source": [
    "# Define the vectors\n",
    "a = np.array([1, 2])\n",
    "b = np.array([3, 4])\n",
    "\n",
    "# Addition\n",
    "vectors_added = a + b\n",
    "print(f\"Addition of vectors a and b is: {vectors_added}\")\n",
    "\n",
    "# Subtraction \n",
    "vectors_subtracted = a - b\n",
    "print(f\"Subtraction of vectors a and b is: {vectors_subtracted}\")"
   ]
  },
  {
   "cell_type": "markdown",
   "metadata": {},
   "source": [
    "Next for scalar multiplication we use $\\mathbf{v} = (2, 3)$ with the scalar 4:"
   ]
  },
  {
   "cell_type": "code",
   "execution_count": 4,
   "metadata": {},
   "outputs": [
    {
     "name": "stdout",
     "output_type": "stream",
     "text": [
      "Scalar multiplication of vector is: [ 8 12]\n"
     ]
    }
   ],
   "source": [
    "# Define the vector and scalar\n",
    "v = np.array([2, 3])\n",
    "scalar = 4\n",
    "\n",
    "# Scalar multiplication\n",
    "vector_multiplied = v * scalar\n",
    "print(f\"Scalar multiplication of vector is: {vector_multiplied}\")"
   ]
  },
  {
   "cell_type": "markdown",
   "metadata": {},
   "source": [
    "#### Euclidean Distance\n",
    "For this example lets use vectors $c = (1, 2, 3)$ and $d = (4, 5, 6)$:"
   ]
  },
  {
   "cell_type": "code",
   "execution_count": 5,
   "metadata": {},
   "outputs": [
    {
     "name": "stdout",
     "output_type": "stream",
     "text": [
      "Euclidean distance between c and d is: 5.196152422706632\n"
     ]
    }
   ],
   "source": [
    "# Define vectors\n",
    "c = np.array([1, 2, 3])\n",
    "d = np.array([4, 5, 6])\n",
    "\n",
    "# Calculate Euclidean distance\n",
    "euclidean_distance = np.linalg.norm(c - d)\n",
    "print(f\"Euclidean distance between c and d is: {euclidean_distance}\")"
   ]
  },
  {
   "cell_type": "markdown",
   "metadata": {},
   "source": [
    "#### Magnitude\n",
    "For magnitude lets use one of the vectors in the previous example:"
   ]
  },
  {
   "cell_type": "code",
   "execution_count": 6,
   "metadata": {},
   "outputs": [
    {
     "name": "stdout",
     "output_type": "stream",
     "text": [
      "Magnitude for vector c is: 3.7416573867739413\n"
     ]
    }
   ],
   "source": [
    "magnitude = np.linalg.norm(c)\n",
    "print(f\"Magnitude for vector c is: {magnitude}\")"
   ]
  },
  {
   "cell_type": "markdown",
   "metadata": {},
   "source": [
    "#### Direction a.k.a. Normalization\n",
    "Now here is something new before the python code. Direction and normalization are the same in most cases. When we talk about the direction of the vector, we are often interested in *unit vector* that points the same direction as the original vector. Thus, the unit vector is obtained from normalizing the vector. The equation for normalization looks something like this: \n",
    "$$\n",
    "\\mathbf{\\hat{v}} = \\frac{\\mathbf{v}} {||\\mathbf{v}||}\n",
    "$$"
   ]
  },
  {
   "cell_type": "code",
   "execution_count": 7,
   "metadata": {},
   "outputs": [
    {
     "name": "stdout",
     "output_type": "stream",
     "text": [
      "Direction of the vector c is: [0.26726124 0.53452248 0.80178373]\n"
     ]
    }
   ],
   "source": [
    "# Using the c vector from above again\n",
    "direction = c / np.linalg.norm(c)\n",
    "print(f\"Direction of the vector c is: {direction}\")"
   ]
  },
  {
   "cell_type": "markdown",
   "metadata": {},
   "source": [
    "### <ins>Final Notes About Vectors</ins>\n",
    "By final notes I mean one final example of vector use case in data science. Not going into details but giving this example as an extra. \n",
    "- Suppose that we have a dataset of athletic pandas who have scores (from 0 to 100) of two performances: Jumping and Running.\n",
    "\n",
    "$$\n",
    "Panda 1 = (85, 78) \\\\\n",
    "Panda 2 = (92, 88) \\\\\n",
    "Panda 3 = (45, 60) \\\\\n",
    "Panda 4 = (50, 65)\n",
    "$$\n",
    "\n",
    "- Each panda is represented as a simple 2-dimensional vector based on their scores.\n",
    "\n",
    "- We could use clustering algorithms like K-means clustering to group pandas with similar scores together. The algorithm calculates the distance between vectors from clusters.\n",
    "\n",
    "- The pandas might be clustered in two groups: high-performing and low-performing based on their vector scores. "
   ]
  }
 ],
 "metadata": {
  "kernelspec": {
   "display_name": ".venv",
   "language": "python",
   "name": "python3"
  },
  "language_info": {
   "codemirror_mode": {
    "name": "ipython",
    "version": 3
   },
   "file_extension": ".py",
   "mimetype": "text/x-python",
   "name": "python",
   "nbconvert_exporter": "python",
   "pygments_lexer": "ipython3",
   "version": "3.10.5"
  }
 },
 "nbformat": 4,
 "nbformat_minor": 2
}
