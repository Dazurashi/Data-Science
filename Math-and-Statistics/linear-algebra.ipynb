{
 "cells": [
  {
   "cell_type": "markdown",
   "metadata": {},
   "source": [
    "# <ins>**Linear Algebra**</ins>"
   ]
  },
  {
   "cell_type": "markdown",
   "metadata": {},
   "source": [
    "## **Importance to Data Science**\n",
    "Data is often represented in vectors and matrices. Linear algebra is the tool to handle and manipulate those. Linear algebra plays an important role in machine learning. For example one of the most simplest and common machine learning algorithm is *linear regression* which uses linear algebra to find best-fit line for predicting outcomes. It's also present in *optimization*, *neural networks*, *image recognition*, *recommendation systems* and many more areas. Knowing linear algebra is essential to computer and data science. "
   ]
  },
  {
   "cell_type": "markdown",
   "metadata": {},
   "source": [
    "****\n",
    "\n",
    "## **Vectors**\n",
    "\n",
    "### <ins>What are Vectors?</ins>\n",
    "A vector is essentially an ordered list of numbers. They are used to represent data points, measurements or any kind of numeric information in a structured way. \n",
    "\n",
    "### <ins>Characteristics of Vectors</ins>\n",
    "\n",
    "#### 1. Dimension\n",
    "- The number of elements in a vector is called its dimension. For example a vector with 3 elements is called a 3-dimensional vector.\n",
    "\n",
    "#### 2. Notation\n",
    "- Vectors are often written as a column of numbers like this:\n",
    "\n",
    "$$\n",
    "\\mathbf{v} = \\begin{pmatrix} 1 \\\\ 2 \\\\ 3 \\end{pmatrix}\n",
    "$$\n",
    "\n",
    "&nbsp;&nbsp;&nbsp;&nbsp;or as a row of numbers:\n",
    "\n",
    "$$\n",
    "\\mathbf{v} = (1, 2, 3)\n",
    "$$\n",
    "\n",
    "#### 3. Components\n",
    "- Each number in the vector is called a component. For example in the vector $\\mathbf{v} = (1, 2, 3)$, the components are 1, 2 and 3.\n",
    "\n",
    "### <ins>Python Example</ins>\n",
    "In Python we could use NumPy library for creating vectors. Creating a row vector is easy but the problem is that NumPy will treat column vectors like regular 1D arrays unless we explicitly shape it. This would make the column vector a 2D vector.\n",
    "\n",
    "#### Row Vector Example:"
   ]
  },
  {
   "cell_type": "code",
   "execution_count": 1,
   "metadata": {},
   "outputs": [
    {
     "name": "stdout",
     "output_type": "stream",
     "text": [
      "Row vector: \n",
      "[1 2 3]\n"
     ]
    }
   ],
   "source": [
    "import numpy as np\n",
    "\n",
    "row_vector = np.array([1, 2, 3])\n",
    "print(f\"Row vector: \\n{row_vector}\")"
   ]
  },
  {
   "cell_type": "markdown",
   "metadata": {},
   "source": [
    "#### Column Vector Example:"
   ]
  },
  {
   "cell_type": "code",
   "execution_count": 2,
   "metadata": {},
   "outputs": [
    {
     "name": "stdout",
     "output_type": "stream",
     "text": [
      "Column vector: \n",
      "[[1]\n",
      " [2]\n",
      " [3]]\n"
     ]
    }
   ],
   "source": [
    "column_vector = np.array([[1], [2], [3]])\n",
    "print(f\"Column vector: \\n{column_vector}\")"
   ]
  },
  {
   "cell_type": "markdown",
   "metadata": {},
   "source": [
    "****\n",
    "\n",
    "## <ins>How Vectors are Used in Data Science</ins>\n",
    "Here are some common use cases of vectors in data science:\n",
    "\n",
    "#### 1. Data Representation:\n",
    "- Features of a Data point: Each data point in a dataset can be represented as a vector. For example, if you are working with a dataset of bulking pandas where each panda is described by its height (in meters), weight (in kilograms) and age (in years), each panda can be represented as a 3-dimensional vector:\n",
    "\n",
    "$$\n",
    "Panda 1 = (1.0, 125.0, 8) \\\\\n",
    "Panda 2 = (1.1, 140.0, 15)\n",
    "$$\n",
    "\n",
    "#### 2. Operations on Vectors:\n",
    "- **Addition:** Vectors can be added together by adding their corresponding components. If $a = (1, 2)$ and $b = (3, 4)$, then: \n",
    "$$\n",
    "a + b = (1 + 3, 3 + 4) = (4, 6)\n",
    "$$\n",
    "\n",
    "- **Scalar Multiplication:** A vector can be multiplied by a scalar (a single number). You multiply each component with the scalar number. If $\\mathbf{v} = (2, 3)$ and the scalar is 4, then:\n",
    "$$\n",
    "4\\mathbf{v} = 4(2, 3) = (4 \\times{} 2, 4 \\times{} 3) = (8, 12)\n",
    "$$ \n",
    "\n",
    "#### 3. Distance and Similarity:\n",
    "- **Euclidean Distance:** The Euclidean distance between two vectors is a measure how far apart they are, the similarity between two data points. ***Special note:** This is used in common machine learning algorithms such as linear regression and k-nearest neighbor. Furthermore, real life applications for this would be something like text auto-correction and basic recommendation algorithms*. For vectors $a = (x_1, y_1)$ and $b = (x_2, y_2)$, the distance is given by:\n",
    "$$\n",
    "Distance = \\sqrt{(x_2 - x_ 1)^2 + (y_2 - y_1)^2}\n",
    "$$\n",
    "\n",
    "#### 4. Direction and Magnitude:\n",
    "- **Direction:** The direction of the vector is the way it points in space. This is important in multiple disciplines like physics and engineering but also in understanding the orientation of data points in data science.\n",
    "\n",
    "- **Magnitude:** In this context magnitude means the measured length of the vector $\\mathbf{v} = (x, y)$ in space and is given by:\n",
    "$$\n",
    "||\\mathbf{v}|| = \\sqrt{x^2 + y^2}\n",
    "$$\n",
    "\n",
    "&nbsp;&nbsp;&nbsp;&nbsp;and more generally depending on number of dimensions for vector $\\mathbf{v} = (v_1, v_2...,v_n)$:\n",
    "\n",
    "$$\n",
    "||\\mathbf{v}|| = \\sqrt{v^2_1 + v^2_2 + ... + v^2_n}\n",
    "$$\n",
    "\n",
    "&nbsp;&nbsp;&nbsp;&nbsp;Example: consider $\\mathbf{v} = (3, 4)$:\n",
    "\n",
    "$$\n",
    "||\\mathbf{v}|| = \\sqrt{3^2 + 4^4} = \\sqrt{9 + 16} = \\sqrt{25} = 5\n",
    "$$\n",
    "\n",
    "&nbsp;&nbsp;&nbsp;&nbsp;This means the magnitude for the vector is 5.\n",
    "\n",
    "- **Further Understanding the Magnitude:** In context of vectors, the notation $||\\mathbf{v}||$ (read as *\"norm of v\"* or *\"magnitude of v\"*) is just a fancy way of saying magnitude. The double vertical bars $|| \\; ||$ are used to denote the magnitude of a vector. You do not have to go deeper interpreting it!"
   ]
  }
 ],
 "metadata": {
  "kernelspec": {
   "display_name": ".venv",
   "language": "python",
   "name": "python3"
  },
  "language_info": {
   "codemirror_mode": {
    "name": "ipython",
    "version": 3
   },
   "file_extension": ".py",
   "mimetype": "text/x-python",
   "name": "python",
   "nbconvert_exporter": "python",
   "pygments_lexer": "ipython3",
   "version": "3.10.5"
  }
 },
 "nbformat": 4,
 "nbformat_minor": 2
}
