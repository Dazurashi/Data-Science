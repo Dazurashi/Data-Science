{
 "cells": [
  {
   "cell_type": "markdown",
   "metadata": {},
   "source": [
    "# <ins>**Linear Algebra**</ins>"
   ]
  },
  {
   "cell_type": "markdown",
   "metadata": {},
   "source": [
    "## **Importance to Data Science**\n",
    "Data is often represented in vectors and matrices. Linear algebra is the tool to handle and manipulate those. Linear algebra plays an important role in machine learning. For example one of the most simplest and common machine learning algorithm is *linear regression* which uses linear algebra to find best-fit line for predicting outcomes. It's also present in *optimization*, *neural networks*, *image recognition*, *recommendation systems* and many more areas. Knowing linear algebra is essential to computer and data science. "
   ]
  },
  {
   "cell_type": "markdown",
   "metadata": {},
   "source": [
    "## **Vectors**\n",
    "\n",
    "### <ins>What are Vectors?</ins>\n",
    "A vector is essentially an ordered list of numbers. They are used to represent data points, measurements or any kind of numeric information in a structured way. \n",
    "\n",
    "### <ins>Characteristics of Vectors</ins>\n",
    "\n",
    "#### 1. Dimension\n",
    "- The number of elements in a vector is called its dimension. For example a vector with 3 elements is called a 3-dimensional vector.\n",
    "\n",
    "#### 2. Notation\n",
    "- Vectors are often written as a column of numbers like this:\n",
    "\n",
    "$$\n",
    "\\mathbf{v} = \\begin{pmatrix} 1 \\\\ 2 \\\\ 3 \\end{pmatrix}\n",
    "$$\n",
    "\n",
    "...or as a row of numbers:\n",
    "\n",
    "$$\n",
    "\\mathbf{v} = (1, 2, 3)\n",
    "$$\n",
    "\n",
    "#### 3. Components\n",
    "- Each number in the vector is called a component. For example in the vector $\\mathbf{v} = (1, 2, 3)$, the components are 1, 2 and 3.\n",
    "\n",
    "### <ins>Python Example</ins>\n",
    "In Python we could use NumPy library for creating vectors. Creating a row vector is easy but the problem is that NumPy will treat column vectors like regular 1D arrays unless we explicitly shape it. This would make the column vector a 2D vector.\n",
    "\n",
    "#### Row Vector Example:"
   ]
  },
  {
   "cell_type": "code",
   "execution_count": 6,
   "metadata": {},
   "outputs": [
    {
     "name": "stdout",
     "output_type": "stream",
     "text": [
      "Row vector: \n",
      "[1 2 3]\n"
     ]
    }
   ],
   "source": [
    "import numpy as np\n",
    "\n",
    "row_vector = np.array([1, 2, 3])\n",
    "print(f\"Row vector: \\n{row_vector}\")"
   ]
  },
  {
   "cell_type": "markdown",
   "metadata": {},
   "source": [
    "#### Column Vector Example:"
   ]
  },
  {
   "cell_type": "code",
   "execution_count": 7,
   "metadata": {},
   "outputs": [
    {
     "name": "stdout",
     "output_type": "stream",
     "text": [
      "Column vector: \n",
      "[[1]\n",
      " [2]\n",
      " [3]]\n"
     ]
    }
   ],
   "source": [
    "column_vector = np.array([[1], [2], [3]])\n",
    "print(f\"Column vector: \\n{column_vector}\")"
   ]
  }
 ],
 "metadata": {
  "kernelspec": {
   "display_name": ".venv",
   "language": "python",
   "name": "python3"
  },
  "language_info": {
   "codemirror_mode": {
    "name": "ipython",
    "version": 3
   },
   "file_extension": ".py",
   "mimetype": "text/x-python",
   "name": "python",
   "nbconvert_exporter": "python",
   "pygments_lexer": "ipython3",
   "version": "3.10.5"
  }
 },
 "nbformat": 4,
 "nbformat_minor": 2
}
