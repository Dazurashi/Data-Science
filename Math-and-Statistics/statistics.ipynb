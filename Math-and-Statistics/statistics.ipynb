{
 "cells": [
  {
   "cell_type": "markdown",
   "metadata": {},
   "source": [
    "# <ins>**Statistic**</ins>\n",
    "\n",
    "## **Importance to Data Science**\n",
    "If you have any idea what data science is, it would be obvious to assume that statistics play probably the biggest role. It provides the foundational tools and methodologies for understanding and working with data. Some of the important highlights are being discussed in this document, featuring descriptive statistics, inferential statistics for data analysis, regression analysis and more. Visualization is also a big part of statistics and data science, so brace yourself for a lot of diagrams and plots. "
   ]
  },
  {
   "cell_type": "markdown",
   "metadata": {},
   "source": [
    "****\n",
    "\n",
    "## **Descriptive Statistics**\n",
    "Descriptive statistics involve summarizing and organizing data so it can be easily understood. Here are the main concepts and measures used in descriptive statistics.\n",
    "\n",
    "### <ins>Measures of Central Tendency</ins>\n",
    "1. **Mean (Average)**:\n",
    "    - The mean is the sum of all the values divided by the number of values.\n",
    "    - Formula: $\\bar{x} = \\frac{1}{N} \\sum_{i=1}^N x_i$\n",
    "    - Example: For data $[ 2, 3, 5, 7, 11]$, the mean is $\\bar{x} = \\frac{2+3+5+7+11}{5} = 5.6$\n",
    "\n",
    "2. **Median**:\n",
    "    - The median is the middle value when the data is oriented from least to greatest. If there is an even number of observations, the median is the average of the two middle numbers.\n",
    "    - Example: For data $[ 2, 3, 5, 7, 11]$, the median is $5$. For data $[ 2, 3, 5, 7]$, the median is $\\frac{3+5}{2} = 4$\n",
    "\n",
    "3. **Mode**:\n",
    "    - The mode is the value that appears most frequently in a dataset.\n",
    "    - Example: For data $[ 2, 3, 3, 5, 7]$, the mode is $3$.\n",
    "\n",
    "### <ins>Measures of Spread (Dispersion)</ins>\n",
    "1. **Range**:\n",
    "    - The range is the difference between the maximum and minimum values.\n",
    "    - Formula is quite obvious: $\\text{Range} = \\text{Max} - \\text{Min}$.\n",
    "    - Example: For data $[ 2, 3, 5, 7, 11]$, the range is $11 - 2 = 9$.\n",
    "\n",
    "2. **Variance**:\n",
    "    - Variance measures the average squared deviation of each number from the mean.\n",
    "    - Formula: $\\sigma^2 = \\frac{1}{N} \\sum_{i=1}^N (x_i - \\bar{x})^2$.\n",
    "    - Example: For data $[ 2, 3, 5, 7, 11]$, calculate the mean ($5.6$), then compute the variance. Spoiler: in this case it would be $12.8$.\n",
    "\n",
    "3. **Standard Deviation**:\n",
    "    - The standard deviation is the square root of the variance and provides the average distance from the mean.\n",
    "    - Formula: $\\sigma = \\sqrt{\\sigma^2}$\n",
    "    - Example: The standard deviation for the above data is $3.5777088$"
   ]
  }
 ],
 "metadata": {
  "kernelspec": {
   "display_name": ".venv",
   "language": "python",
   "name": "python3"
  },
  "language_info": {
   "name": "python",
   "version": "3.10.5"
  }
 },
 "nbformat": 4,
 "nbformat_minor": 2
}
