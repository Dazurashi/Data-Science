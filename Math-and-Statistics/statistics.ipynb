{
 "cells": [
  {
   "cell_type": "markdown",
   "metadata": {},
   "source": [
    "# <ins>**Statistic**</ins>\n",
    "\n",
    "## **Importance to Data Science**\n",
    "If you have any idea what data science is, it would be obvious to assume that statistics play probably the biggest role. It provides the foundational tools and methodologies for understanding and working with data. Some of the important highlights are being discussed in this document, featuring descriptive statistics, inferential statistics for data analysis, regression analysis and more. Visualization is also a big part of statistics and data science, so brace yourself for a lot of diagrams and plots. "
   ]
  },
  {
   "cell_type": "markdown",
   "metadata": {},
   "source": [
    "****\n",
    "\n",
    "## **Descriptive Statistics**\n",
    "Descriptive statistics involve summarizing and organizing data so it can be easily understood. Here are the main concepts and measures used in descriptive statistics.\n",
    "\n",
    "### <ins>Measures of Central Tendency</ins>"
   ]
  }
 ],
 "metadata": {
  "kernelspec": {
   "display_name": ".venv",
   "language": "python",
   "name": "python3"
  },
  "language_info": {
   "name": "python",
   "version": "3.10.5"
  }
 },
 "nbformat": 4,
 "nbformat_minor": 2
}
