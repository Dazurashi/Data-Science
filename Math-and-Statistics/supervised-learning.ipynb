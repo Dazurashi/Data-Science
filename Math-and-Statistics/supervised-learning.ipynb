{
 "cells": [
  {
   "cell_type": "markdown",
   "metadata": {},
   "source": [
    "# <ins>**Supervised Learning**</ins>\n",
    "\n",
    "Supervised learning is a type of machine learning where the model is trained using labeled data. This means that the training dataset includes both the input data and the corresponding correct output. The goal of supervised learning is for the model to learn a mapping from inputs to outputs so that it can make accurate predictions on new and unseen data. To put it simply, supervised learning is like teaching the machine with example problems and their solutions. The machine (well not exactly the machine but the model you are using in your machine) learns from these examples and gets better at solving similar problems on their own. Obviously the limitation on supervised learning is that the model cannot learn anything new on its own and needs human to teach it, thus \"supervised\" learning.\n",
    "\n",
    "Supervised learning can be broadly classified into two types:\n",
    "\n",
    "1. **Regression**: When the output variable is continuous, such as predicting house prices or temperatures, *and my god how much internet courses about linear regression love to use house prices in their examples...*\n",
    "2. **Classification**: When the output variable is categorical, such as identifying if an email is spam or not, or classifying images of cats (another classic). \n",
    "\n",
    "Before you jump deeper, you need to understand these **basic key concepts**:\n",
    "- **Training Data**: This is the dataset you would use to train your model. It contains the inputs (problems) and outputs (solutions) you wish your model to learn to solve.\n",
    "- **Features**: These are the inputs. To clarify, features are not \"problems\" in traditional sense like a math problem or not having your morning coffee. Instead the features are more like \"features\" of the input. For example if you make a cat detection program, you would have cat pictures as input which are broken down into pixels. Those pixels would make the features. \n",
    "- **Labels**: Labels are the outputs or the target you are trying to predict. For example \"cat\" would be the label of a model that can recognize multiple animals.\n",
    "- **Model**: Model is the algorithm or mathematical function that maps inputs to outputs. We will see several models in this document.\n",
    "- **Training**: The process of fitting the model to the training data. \n",
    "- **Testing**: Evaluating the model's performance on new and unseen data.\n",
    "\n",
    "****\n",
    "\n",
    "## **Linear Regression**\n",
    "If you read the Statistics document, this section might look similar. Moreover we will go thought linear regression in more detail here.\n",
    "\n",
    "Linear regression is a statistical method used to model the relationship between a dependent variable (label) and one or more independent variables (features). The goal is to find the best-fitting line (or hyperplane in higher dimensions) that describes the relationship between the variables.\n",
    "\n",
    "### <ins>Mathematics of Linear Regression</ins>\n",
    "You probably do not have to do any math by hand if you ever work with linear regression, because everything is taken care of by Python libraries. Still, it is beneficial to understand what is happening in the \"black box\" you call in your code. For this particular case, we will look into simple linear regression, which is simplest to understand (duh).\n",
    "\n",
    "Given a dataset with $n$ observations:\n",
    "$$\n",
    "\\{(X_1, Y_1), (X_2, Y_2),...,(X_n, Y_n)\\}\n",
    "$$\n",
    "\n",
    "The simple linear regression model is:\n",
    "$$\n",
    "Y = b_0 + b_1X\n",
    "$$\n",
    "\n",
    "where:\n",
    "- $Y$ is the dependent variable (label).\n",
    "- $X$ is the independent variable (feature).\n",
    "- $b_0$ is the intercept.\n",
    "- $b_1$ is the slope.\n",
    "\n",
    "Now, we are interested in the coefficient $b_0$ and $b_1$. "
   ]
  }
 ],
 "metadata": {
  "language_info": {
   "name": "python"
  }
 },
 "nbformat": 4,
 "nbformat_minor": 2
}
