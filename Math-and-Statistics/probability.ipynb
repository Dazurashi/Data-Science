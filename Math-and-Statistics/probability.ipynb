{
 "cells": [
  {
   "cell_type": "markdown",
   "metadata": {},
   "source": [
    "# <ins>**Probability Theory**</ins>\n",
    "\n",
    "## **Importance to Data Science**\n",
    "Probability is the foundation of statistical methods. It plays a key role in data science themes like probabilistic models such as *Bayesian networks* and *Gaussian processes*, further expanding to machine learning algorithms. It is also critical to understand probability theory when doing error analysis and risk assessments. In this document we wont dive deep into any of these subjects but explore the core basics of understanding several probability concepts. However you might see these fancier applications in the future documents. Overall, probability theory provides the mathematical framework and tools necessary for dealing with the inherent uncertainty and variability in data, making it indispensable in data science for analysis, modeling, prediction, and decision-making.\n"
   ]
  },
  {
   "cell_type": "markdown",
   "metadata": {},
   "source": [
    "****\n",
    "\n",
    "## **Basic Probability**\n",
    "\n",
    "### <ins>Definitions</ins>\n",
    "If you read the past documents before jumping into this one, you might feel like being on a vacation because a lot of concepts in probability are easier to understand than in linear algebra or calculus. This is my \"unbiased\" opinion.\n",
    "\n",
    "First we should define few reoccurring words that you will see throughout the document:\n",
    "- **Probability**: The likelyhood that an event will occur, ranging from 0 (impossible event) to 1 (certain event).\n",
    "- **Experiment**: An activity with uncertain outcome, rolling a die.\n",
    "- **Sample Space $(S)$**: The set of all possible outcomes of an experiment. For example $S = \\{1, 2, 3, 4, 5, 6\\}$ for a die roll.\n",
    "- **Event**: A subset of the sample space. For example rolling an even number $A = \\{2,4,6\\}$.\n",
    "\n",
    "### <ins>Calculating Probability</ins>\n",
    "- The probability of an event $A$ occurring is:\n",
    "$$\n",
    "P(A) = \\frac{\\text{Number of favorable outcomes}}{\\text{Total number of possible outcomes}}\n",
    "$$\n",
    "\n",
    "Makes common sense if you think about it. Now here are couple examples:\n",
    "\n",
    "1. Rolling a die:\n",
    "    - Sample space: $S$ = \\{1,2,3,4,5,6\\}\n",
    "    - Event: Rolling a $3$\n",
    "    - Probability:\n",
    "    $$\n",
    "    P(\\text{Drawing an Ace}) = \\frac{1}{6}\n",
    "    $$\n",
    "\n",
    "2. Drawing a card from a deck\n",
    "    - Sample space: 52 cards\n",
    "    - Event: Drawing an ace\n",
    "    - Probability\n",
    "    $$\n",
    "    P(\\text{Drawing an ace}) = \\frac{4}{52} = \\frac{1}{13}\n",
    "    $$\n",
    "\n",
    "### <ins>Probability Rules</ins>\n",
    "There are way more rules than listed in this document, but here are the basic ones you should know:\n",
    "\n",
    "- **Complementary Events**: The probability of the complement of an event $A$ (denoted as $A^c$) is:\n",
    "$$\n",
    "P(A^c) = 1 - P(A)\n",
    "$$\n",
    "\n",
    "- **Union of Events**: The probability that either event $A$ or event $B$ occurs (or both):\n",
    "$$\n",
    "P(A \\cup B) = P(A) + P(B) - P(A \\cap B)\n",
    "$$\n",
    "\n",
    "- **Intersection of Events**: The probability that both events $A$ and $B$ occur (if $A$ and $B$ are independent):\n",
    "$$\n",
    "P(A \\cap B) = P(A) \\times P(B)\n",
    "$$\n",
    "\n",
    "### <ins>Python Examples of Basic Probability</ins>\n",
    "Here are few examples of how to calculate basic probabilities in Python as well as applying probability rules\n",
    "\n",
    "#### Rolling a Die"
   ]
  },
  {
   "cell_type": "code",
   "execution_count": 1,
   "metadata": {},
   "outputs": [
    {
     "name": "stdout",
     "output_type": "stream",
     "text": [
      "Estimated Probability of rolling a 3: 0.16712\n"
     ]
    }
   ],
   "source": [
    "import random\n",
    "\n",
    "# Simulate rolling a die\n",
    "def roll_die():\n",
    "    return random.randint(1, 6)\n",
    "\n",
    "# Number of simulations\n",
    "num_simulations = 100000\n",
    "count_3 = 0\n",
    "\n",
    "for _ in range(num_simulations):\n",
    "    if roll_die() == 3:\n",
    "        count_3 += 1\n",
    "\n",
    "# Estimated probability\n",
    "prob_3 = count_3 / num_simulations\n",
    "print(f\"Estimated Probability of rolling a 3: {prob_3}\")"
   ]
  },
  {
   "cell_type": "markdown",
   "metadata": {},
   "source": [
    "#### Drawing a Card from a Deck"
   ]
  },
  {
   "cell_type": "code",
   "execution_count": 2,
   "metadata": {},
   "outputs": [
    {
     "name": "stdout",
     "output_type": "stream",
     "text": [
      "Estimated Probability of drawing an Ace: 0.07622\n"
     ]
    }
   ],
   "source": [
    "# Simulate drawing a card\n",
    "def draw_card():\n",
    "    deck = ['Ace'] * 4 + ['Non-Ace'] * 48\n",
    "    return random.choice(deck)\n",
    "\n",
    "# Number of simulations\n",
    "num_simulations = 100000\n",
    "count_ace = 0\n",
    "\n",
    "for _ in range(num_simulations):\n",
    "    if draw_card() == 'Ace':\n",
    "        count_ace += 1\n",
    "\n",
    "# Estimated probability\n",
    "prob_ace = count_ace / num_simulations\n",
    "print(f\"Estimated Probability of drawing an Ace: {prob_ace}\")"
   ]
  },
  {
   "cell_type": "markdown",
   "metadata": {},
   "source": [
    "#### Complementary Events"
   ]
  },
  {
   "cell_type": "code",
   "execution_count": 3,
   "metadata": {},
   "outputs": [
    {
     "name": "stdout",
     "output_type": "stream",
     "text": [
      "Probability of drawing a non-Ace card: 0.9230769230769231\n"
     ]
    }
   ],
   "source": [
    "# Probability of drawing a non-Ace card\n",
    "prob_non_ace = 1 - (4 / 52)\n",
    "print(f\"Probability of drawing a non-Ace card: {prob_non_ace}\")"
   ]
  },
  {
   "cell_type": "markdown",
   "metadata": {},
   "source": [
    "#### Union of Events (Rolling a 2 or 4)"
   ]
  },
  {
   "cell_type": "code",
   "execution_count": 4,
   "metadata": {},
   "outputs": [
    {
     "name": "stdout",
     "output_type": "stream",
     "text": [
      "Estimated Probability of rolling a 2 or 4: 0.33295\n"
     ]
    }
   ],
   "source": [
    "# Simulate rolling a die\n",
    "def roll_die():\n",
    "    return random.randint(1, 6)\n",
    "\n",
    "# Number of simulations\n",
    "num_simulations = 100000\n",
    "count_2_or_4 = 0\n",
    "\n",
    "for _ in range(num_simulations):\n",
    "    if roll_die() in [2, 4]:\n",
    "        count_2_or_4 += 1\n",
    "\n",
    "# Estimated probability\n",
    "prob_2_or_4 = count_2_or_4 / num_simulations\n",
    "print(f\"Estimated Probability of rolling a 2 or 4: {prob_2_or_4}\")"
   ]
  },
  {
   "cell_type": "markdown",
   "metadata": {},
   "source": [
    "#### Intersection of Independent Events (Rolling a 2 and flipping a head)"
   ]
  },
  {
   "cell_type": "code",
   "execution_count": 5,
   "metadata": {},
   "outputs": [
    {
     "name": "stdout",
     "output_type": "stream",
     "text": [
      "Estimated Probability of rolling a 2 and flipping Heads: 0.08395\n"
     ]
    }
   ],
   "source": [
    "# Simulate flipping a coin\n",
    "def flip_coin():\n",
    "    return random.choice(['Heads', 'Tails'])\n",
    "\n",
    "# Number of simulations\n",
    "num_simulations = 100000\n",
    "count_2_and_heads = 0\n",
    "\n",
    "for _ in range(num_simulations):\n",
    "    if roll_die() == 2 and flip_coin() == 'Heads':\n",
    "        count_2_and_heads += 1\n",
    "\n",
    "# Estimated probability\n",
    "prob_2_and_heads = count_2_and_heads / num_simulations\n",
    "print(f\"Estimated Probability of rolling a 2 and flipping Heads: {prob_2_and_heads}\")"
   ]
  },
  {
   "cell_type": "markdown",
   "metadata": {},
   "source": [
    "****\n",
    "\n",
    "## **Conditional Probability**\n",
    "\n",
    "### <ins>Definition</ins>\n",
    "Conditional probability measures the probability of and event occurring given that another event has already occurred. It is denoted by $P(A|B)$, which reads as \"the probability of $A$ given $B$.\n",
    "\n",
    "The formula for solving conditional probability is:\n",
    "$$\n",
    "P(A|B) = \\frac{P(A \\cap B)}{P(B)}\n",
    "$$\n",
    "\n",
    "provided that $P(B) > 0$. Because obviously you cannot divide with $0$.\n",
    "- $P(A \\cap B)$: Probability that both events $A$ and $B$ occur.\n",
    "- $P(B)$: Probability that event $B$ occurs. \n",
    "\n",
    "### <ins>Examples</ins>\n",
    "Lets look at couple examples for clarity.\n",
    "\n",
    "#### Example 1: Drawing cards\n",
    "- Event $A$: Drawing an ace.\n",
    "- Event $B$: Drawn ace is a red card (hearts or diamonds).\n",
    "\n",
    "Calculate $P(A|B)$:\n",
    "- Total number of cards = $52$.\n",
    "- Number of red cards = $26$.\n",
    "- Number of red aces = $2$.\n",
    "$$\n",
    "P(A \\cap B) = \\frac{2}{52} = \\frac{1}{26}\n",
    "$$\n",
    "\n",
    "$$\n",
    "P(B) = \\frac{26}{52} = \\frac{1}{2}\n",
    "$$\n",
    "\n",
    "so,\n",
    "\n",
    "$$\n",
    "P(A|B) = \\frac{P(A \\cap B)}{P(B)} = \\frac{\\frac{1}{26}}{\\frac{1}{2}} = \\frac{2}{26} = \\frac{1}{13}\n",
    "$$\n",
    "\n",
    "#### Example 2: Rolling a Die\n",
    "- Event $A$: Rolling an even number.\n",
    "- Event $B$: Rolling a number greater than $3$.\n",
    "\n",
    "Calculate $P(A|B)$:\n",
    "- Sample space: $S = \\{1,2,3,4,5,6\\}$.\n",
    "- $A = \\{2, 4, 6\\}$ (even numbers).\n",
    "- $B = \\{4, 5, 6\\}$ (greater than $3$).\n",
    "- $A \\cap B = \\{4, 6\\}$ (even numbers greater than $3$).\n",
    "\n",
    "$$\n",
    "P(A \\cap B) = \\frac{2}{6} = \\frac{1}{3}\n",
    "$$\n",
    "\n",
    "$$\n",
    "P(B) = \\frac{3}{6} = \\frac{1}{2}\n",
    "$$\n",
    "\n",
    "so,\n",
    "\n",
    "$$\n",
    "P(A|B) = \\frac{P(A \\cap B)}{P(B)} = \\frac{\\frac{1}{3}}{\\frac{1}{2}} = \\frac{2}{3}\n",
    "$$\n",
    "\n",
    "### <ins>Python Examples of Conditional Probability</ins>\n",
    "Lets turn those examples into Python code similarly to the examples we did with basic probability.\n",
    "\n",
    "#### Drawing Cards"
   ]
  },
  {
   "cell_type": "code",
   "execution_count": 6,
   "metadata": {},
   "outputs": [
    {
     "name": "stdout",
     "output_type": "stream",
     "text": [
      "Estimated Probability of drawing an Ace given that the card is red: 0.07825199183248589\n"
     ]
    }
   ],
   "source": [
    "# Simulate drawing a card\n",
    "def draw_card():\n",
    "    # 'R' for red cards, 'B' for black cards, 'A' for Ace, 'N' for Non-Ace\n",
    "    deck = ['RA', 'RA'] + ['RN'] * 24 + ['BA'] * 2 + ['BN'] * 24\n",
    "    return random.choice(deck)\n",
    "\n",
    "# Number of simulations\n",
    "num_simulations = 100000\n",
    "count_ace_given_red = 0\n",
    "count_red = 0\n",
    "\n",
    "for _ in range(num_simulations):\n",
    "    card = draw_card()\n",
    "    if 'R' in card:\n",
    "        count_red += 1\n",
    "        if 'A' in card:\n",
    "            count_ace_given_red += 1\n",
    "\n",
    "# Estimated conditional probability\n",
    "prob_ace_given_red = count_ace_given_red / count_red\n",
    "print(f\"Estimated Probability of drawing an Ace given that the card is red: {prob_ace_given_red}\")"
   ]
  },
  {
   "cell_type": "markdown",
   "metadata": {},
   "source": [
    "#### Rolling a Die"
   ]
  },
  {
   "cell_type": "code",
   "execution_count": 7,
   "metadata": {},
   "outputs": [
    {
     "name": "stdout",
     "output_type": "stream",
     "text": [
      "Estimated Probability of rolling an even number given that the roll is greater than 3: 0.6685754189944134\n"
     ]
    }
   ],
   "source": [
    "# Simulate rolling a die\n",
    "def roll_die():\n",
    "    return random.randint(1, 6)\n",
    "\n",
    "# Number of simulations\n",
    "num_simulations = 100000\n",
    "count_even_given_greater_than_3 = 0\n",
    "count_greater_than_3 = 0\n",
    "\n",
    "for _ in range(num_simulations):\n",
    "    roll = roll_die()\n",
    "    if roll > 3:\n",
    "        count_greater_than_3 += 1\n",
    "        if roll % 2 == 0:\n",
    "            count_even_given_greater_than_3 += 1\n",
    "\n",
    "# Estimated conditional probability\n",
    "prob_even_given_greater_than_3 = count_even_given_greater_than_3 / count_greater_than_3\n",
    "print(f\"Estimated Probability of rolling an even number given that the roll is greater than 3: {prob_even_given_greater_than_3}\")"
   ]
  },
  {
   "cell_type": "markdown",
   "metadata": {},
   "source": [
    "****\n",
    "\n",
    "## **Bayes' Theorem**\n",
    "Bayes' theorem allows us to revise out beliefs in light of new evidence. It helps us calculate the probability of an event after considering new information.\n",
    "\n",
    "### <ins>Definition</ins>\n",
    "Bayes' theorem provides a way to update the probability of a hypothesis, $A$, given new evidence, $B$. It combines prior knowledge with new data to give a posterior probability. \n",
    "\n",
    "The formula is: \n",
    "$$\n",
    "P(A|B) = \\frac{P(B|A) \\times P(A)}{P(B)}\n",
    "$$\n",
    "\n",
    "where:\n",
    "- $P(A|B)$ is the posterior probability: the probability of $A$ given $B$ (what we are trying to find).\n",
    "- $P(B|A)$ is the likelihood: the probability of $B$ given $A$.\n",
    "- $P(A)$ is the prior probability: the initial probability $A$.\n",
    "- $P(B)$ is the marginal likelihood: the total probability of $B$.\n",
    "\n",
    "### <ins>Examples</ins>\n",
    "Since probability as a subject is somewhat lesser-abstract concept, it is beneficial to understand it with real-world examples as we saw earlier. We are going to do the same here and hopefully that formula makes more sense. \n",
    "\n",
    "#### Example 1: Medical Diagnosis\n",
    "Suppose a test for a disease is 99% accurate (true positive rate) and has a 1% false positive rate. The disease prevalence in the population is 0.05%. If a person tests positive, what is the probability they actually have the disease? \n",
    "\n",
    "Lets define:\n",
    "- $A$: The event that the person has the disease.\n",
    "- $B$: The event that the person tests positive.\n",
    "\n",
    "We are given:\n",
    "- $P(A) = 0.005$ (prior probability)\n",
    "- $P(B|A) = 0.99$ (likelihood)\n",
    "- $P(B|A^c) = 0.01$ (false positive rate, where $A^c$ is the event that the person does not have the disease)\n",
    "\n",
    "Now we need to find $P(A|B)$.\n",
    "\n",
    "First, calculate $P(B)$:\n",
    "$$\n",
    "P(B) = P(B|A) \\times P(A) + P(B|A^c) \\times P(A^c)\n",
    "$$\n",
    "\n",
    "$$\n",
    "P(B) = (0.99 \\times 0.005) + (0.01 \\times 0.995) = 0.00495 + 0.00995 = 0.0149\n",
    "$$\n",
    "\n",
    "Now we use the Bayes' theorem:\n",
    "$$\n",
    "P(A|B) = \\frac{P(B|A) \\times P(A)}{P(B)} = \\frac{0.99 \\times 0.005}{0.149} \\approx 0.332\n",
    "$$\n",
    "\n",
    "So the probability that the person actually has the disease given a positive test result is about 33.2%. Maybe they should find more accurate tests.\n",
    "\n",
    "#### Example 2: Spam Filtering\n",
    "Suppose you have an email spam filter that uses Bayesian inference to determine whether an email is spam. We know that:\n",
    "- 20% of emails are spam ($P(\\text{Spam}) = 0.2$).\n",
    "- A certain word appears in 50% of spam emails ($P(\\text{Word}|\\text{Spam}) = 0.5$).\n",
    "- The same word appears in 5% of non-spam emails ($P(\\text{Word}|\\text{Not Spam}) = 0.05$).\n",
    "\n",
    "If an email contains this word, what is the probability that is is spam?\n",
    "\n",
    "Lets define:\n",
    "- $A$: The event that the email is spam.\n",
    "- $B$: The event that the email contains the word.\n",
    "\n",
    "We are given: \n",
    "- $P(A) = 0.2$\n",
    "- $P(B|A) = 0.5$ \n",
    "- $P(B|A^c) = 0.05$ \n",
    "\n",
    "Next we find $P(A|B)$.\n",
    "\n",
    "Calculate $P(B)$:\n",
    "$$\n",
    "P(B) = (0.5 \\times 0.2) + (0.05 \\times 0.8) = 0.14\n",
    "$$\n",
    "\n",
    "Apply Bayes' theorem:\n",
    "$$\n",
    "P(A|B) = \\frac{0.5 \\times 0.2}{0.14} \\approx 0.714\n",
    "$$\n",
    "\n",
    "So we can conclude that the person needs to stop signing up for random websites, because there is about 71.4% chance that their email is spam.\n",
    "\n",
    "### <ins>Python Examples of Bayes' Theorem</ins>\n",
    "Now lets put those examples into Python code even though it is just simple arithmetics and no external libraries needed. We have had Python examples after each section so I am not going to break the tradition. There exists a library which is ever-growing in popularity, called TensorFlow. However it is used for more advanced probability calculations and we do not need that here now. In the later documents I am sure that we will be using it in some other context. \n",
    "\n",
    "#### Python Example 1: Medical Diagnosis"
   ]
  },
  {
   "cell_type": "code",
   "execution_count": 8,
   "metadata": {},
   "outputs": [
    {
     "name": "stdout",
     "output_type": "stream",
     "text": [
      "Probability of having the disease given a positive test result: 0.3322\n"
     ]
    }
   ],
   "source": [
    "# Given values\n",
    "P_A = 0.005  # Prior probability of having the disease\n",
    "P_B_given_A = 0.99  # Probability of testing positive given having the disease\n",
    "P_B_given_Ac = 0.01  # Probability of testing positive given not having the disease\n",
    "\n",
    "# Calculate P(B)\n",
    "P_Ac = 1 - P_A  # Probability of not having the disease\n",
    "P_B = (P_B_given_A * P_A) + (P_B_given_Ac * P_Ac)\n",
    "\n",
    "# Apply Bayes' Theorem\n",
    "P_A_given_B = (P_B_given_A * P_A) / P_B\n",
    "print(f\"Probability of having the disease given a positive test result: {P_A_given_B:.4f}\")"
   ]
  },
  {
   "cell_type": "markdown",
   "metadata": {},
   "source": [
    "#### Python Example 2: Spam Filtering"
   ]
  },
  {
   "cell_type": "code",
   "execution_count": 9,
   "metadata": {},
   "outputs": [
    {
     "name": "stdout",
     "output_type": "stream",
     "text": [
      "Probability of an email being spam given it contains the word: 0.7143\n"
     ]
    }
   ],
   "source": [
    "# Given values\n",
    "P_Spam = 0.2  # Prior probability of an email being spam\n",
    "P_Word_given_Spam = 0.5  # Probability of the word appearing given the email is spam\n",
    "P_Word_given_NotSpam = 0.05  # Probability of the word appearing given the email is not spam\n",
    "\n",
    "# Calculate P(Word)\n",
    "P_NotSpam = 1 - P_Spam  # Probability of an email not being spam\n",
    "P_Word = (P_Word_given_Spam * P_Spam) + (P_Word_given_NotSpam * P_NotSpam)\n",
    "\n",
    "# Apply Bayes' Theorem\n",
    "P_Spam_given_Word = (P_Word_given_Spam * P_Spam) / P_Word\n",
    "print(f\"Probability of an email being spam given it contains the word: {P_Spam_given_Word:.4f}\")"
   ]
  }
 ],
 "metadata": {
  "kernelspec": {
   "display_name": ".venv",
   "language": "python",
   "name": "python3"
  },
  "language_info": {
   "codemirror_mode": {
    "name": "ipython",
    "version": 3
   },
   "file_extension": ".py",
   "mimetype": "text/x-python",
   "name": "python",
   "nbconvert_exporter": "python",
   "pygments_lexer": "ipython3",
   "version": "3.10.5"
  }
 },
 "nbformat": 4,
 "nbformat_minor": 2
}
