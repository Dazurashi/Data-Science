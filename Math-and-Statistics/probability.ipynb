{
 "cells": [
  {
   "cell_type": "markdown",
   "metadata": {},
   "source": [
    "# <ins>**Probability Theory**</ins>\n",
    "\n",
    "## **Importance to Data Science**\n",
    "Probability is the foundation of statistical methods. It plays a key role in data science themes like probabilistic models such as *Bayesian networks* and *Gaussian processes*, further expanding to machine learning algorithms. It is also critical to understand probability theory when doing error analysis and risk assessments. In this document we wont dive deep into any of these subjects but explore the core basics of understanding several probability concepts. However you might see these fancier applications in the future documents. Overall, probability theory provides the mathematical framework and tools necessary for dealing with the inherent uncertainty and variability in data, making it indispensable in data science for analysis, modeling, prediction, and decision-making.\n"
   ]
  },
  {
   "cell_type": "markdown",
   "metadata": {},
   "source": [
    "****\n",
    "\n",
    "## **Basic Probability**\n",
    "\n",
    "### <ins>Definitions</ins>\n",
    "If you read the past documents before jumping into this one, you might feel like being on a vacation because a lot of concepts in probability are easier to understand than in linear algebra or calculus. This is my \"unbiased\" opinion.\n",
    "\n",
    "First we should define few reoccurring words that you will see throughout the document:\n",
    "- **Probability**: The likelyhood that an event will occur, ranging from 0 (impossible event) to 1 (certain event).\n",
    "- **Experiment**: An activity with uncertain outcome, rolling a die.\n",
    "- **Sample Space $(S)$**: The set of all possible outcomes of an experiment. For example $S = \\{1, 2, 3, 4, 5, 6\\}$ for a die roll.\n",
    "- **Event**: A subset of the sample space. For example rolling an even number $A = \\{2,4,6\\}$.\n",
    "\n",
    "### <ins>Calculating Probability</ins>\n",
    "- The probability of an event $A$ occurring is:\n",
    "$$\n",
    "P(A) = \\frac{\\text{Number of favorable outcomes}}{\\text{Total number of possible outcomes}}\n",
    "$$\n",
    "\n",
    "Makes common sense if you think about it. Now here are couple examples:\n",
    "\n",
    "1. Rolling a die:\n",
    "    - Sample space: $S$ = \\{1,2,3,4,5,6\\}\n",
    "    - Event: Rolling a $3$\n",
    "    - Probability:\n",
    "    $$\n",
    "    P(\\text{Drawing an Ace}) = \\frac{1}{6}\n",
    "    $$\n",
    "\n",
    "2. Drawing a card from a deck\n",
    "    - Sample space: 52 cards\n",
    "    - Event: Drawing an ace\n",
    "    - Probability\n",
    "    $$\n",
    "    P(\\text{Drawing an ace}) = \\frac{4}{52} = \\frac{1}{13}\n",
    "    $$\n",
    "\n",
    "### <ins>Probability Rules</ins>\n",
    "There are way more rules than listed in this document, but here are the basic ones you should know:\n",
    "\n",
    "- **Complementary Events**: The probability of the complement of an event $A$ (denoted as $A^c$) is:\n",
    "$$\n",
    "P(A^c) = 1 - P(A)\n",
    "$$\n",
    "\n",
    "- **Union of Events**: The probability that either event $A$ or event $B$ occurs (or both):\n",
    "$$\n",
    "P(A \\cup B) = P(A) + P(B) - P(A \\cap B)\n",
    "$$\n",
    "\n",
    "- **Intersection of Events**: The probability that both events $A$ and $B$ occur (if $A$ and $B$ are independent):\n",
    "$$\n",
    "P(A \\cap B) = P(A) \\times P(B)\n",
    "$$\n",
    "\n",
    "### <ins>Python Examples of Basic Probability</ins>\n",
    "Here are few examples of how to calculate basic probabilities in Python as well as applying probability rules\n",
    "\n",
    "#### Rolling a Die"
   ]
  },
  {
   "cell_type": "code",
   "execution_count": 1,
   "metadata": {},
   "outputs": [
    {
     "name": "stdout",
     "output_type": "stream",
     "text": [
      "Estimated Probability of rolling a 3: 0.16744\n"
     ]
    }
   ],
   "source": [
    "import random\n",
    "\n",
    "# Simulate rolling a die\n",
    "def roll_die():\n",
    "    return random.randint(1, 6)\n",
    "\n",
    "# Number of simulations\n",
    "num_simulations = 100000\n",
    "count_3 = 0\n",
    "\n",
    "for _ in range(num_simulations):\n",
    "    if roll_die() == 3:\n",
    "        count_3 += 1\n",
    "\n",
    "# Estimated probability\n",
    "prob_3 = count_3 / num_simulations\n",
    "print(f\"Estimated Probability of rolling a 3: {prob_3}\")"
   ]
  },
  {
   "cell_type": "markdown",
   "metadata": {},
   "source": [
    "#### Drawing a Card from a Deck"
   ]
  },
  {
   "cell_type": "code",
   "execution_count": 2,
   "metadata": {},
   "outputs": [
    {
     "name": "stdout",
     "output_type": "stream",
     "text": [
      "Estimated Probability of drawing an Ace: 0.07577\n"
     ]
    }
   ],
   "source": [
    "# Simulate drawing a card\n",
    "def draw_card():\n",
    "    deck = ['Ace'] * 4 + ['Non-Ace'] * 48\n",
    "    return random.choice(deck)\n",
    "\n",
    "# Number of simulations\n",
    "num_simulations = 100000\n",
    "count_ace = 0\n",
    "\n",
    "for _ in range(num_simulations):\n",
    "    if draw_card() == 'Ace':\n",
    "        count_ace += 1\n",
    "\n",
    "# Estimated probability\n",
    "prob_ace = count_ace / num_simulations\n",
    "print(f\"Estimated Probability of drawing an Ace: {prob_ace}\")"
   ]
  },
  {
   "cell_type": "markdown",
   "metadata": {},
   "source": [
    "#### Complementary Events"
   ]
  },
  {
   "cell_type": "code",
   "execution_count": 3,
   "metadata": {},
   "outputs": [
    {
     "name": "stdout",
     "output_type": "stream",
     "text": [
      "Probability of drawing a non-Ace card: 0.9230769230769231\n"
     ]
    }
   ],
   "source": [
    "# Probability of drawing a non-Ace card\n",
    "prob_non_ace = 1 - (4 / 52)\n",
    "print(f\"Probability of drawing a non-Ace card: {prob_non_ace}\")"
   ]
  },
  {
   "cell_type": "markdown",
   "metadata": {},
   "source": [
    "#### Union of Events (Rolling a 2 or 4)"
   ]
  },
  {
   "cell_type": "code",
   "execution_count": 4,
   "metadata": {},
   "outputs": [
    {
     "name": "stdout",
     "output_type": "stream",
     "text": [
      "Estimated Probability of rolling a 2 or 4: 0.33258\n"
     ]
    }
   ],
   "source": [
    "# Simulate rolling a die\n",
    "def roll_die():\n",
    "    return random.randint(1, 6)\n",
    "\n",
    "# Number of simulations\n",
    "num_simulations = 100000\n",
    "count_2_or_4 = 0\n",
    "\n",
    "for _ in range(num_simulations):\n",
    "    if roll_die() in [2, 4]:\n",
    "        count_2_or_4 += 1\n",
    "\n",
    "# Estimated probability\n",
    "prob_2_or_4 = count_2_or_4 / num_simulations\n",
    "print(f\"Estimated Probability of rolling a 2 or 4: {prob_2_or_4}\")"
   ]
  },
  {
   "cell_type": "markdown",
   "metadata": {},
   "source": [
    "#### Intersection of Independent Events (Rolling a 2 and flipping a head)"
   ]
  },
  {
   "cell_type": "code",
   "execution_count": 5,
   "metadata": {},
   "outputs": [
    {
     "name": "stdout",
     "output_type": "stream",
     "text": [
      "Estimated Probability of rolling a 2 and flipping Heads: 0.08437\n"
     ]
    }
   ],
   "source": [
    "# Simulate flipping a coin\n",
    "def flip_coin():\n",
    "    return random.choice(['Heads', 'Tails'])\n",
    "\n",
    "# Number of simulations\n",
    "num_simulations = 100000\n",
    "count_2_and_heads = 0\n",
    "\n",
    "for _ in range(num_simulations):\n",
    "    if roll_die() == 2 and flip_coin() == 'Heads':\n",
    "        count_2_and_heads += 1\n",
    "\n",
    "# Estimated probability\n",
    "prob_2_and_heads = count_2_and_heads / num_simulations\n",
    "print(f\"Estimated Probability of rolling a 2 and flipping Heads: {prob_2_and_heads}\")"
   ]
  },
  {
   "cell_type": "markdown",
   "metadata": {},
   "source": [
    "****\n",
    "\n",
    "## **Conditional Probability**\n",
    "\n",
    "### <ins>Definition</ins>\n",
    "Conditional probability measures the probability of and event occurring given that another event has already occurred. It is denoted by $P(A|B)$, which reads as \"the probability of $A$ given $B$.\n",
    "\n",
    "The formula for solving conditional probability is:\n",
    "$$\n",
    "P(A|B) = \\frac{P(A \\cap B)}{P(B)}\n",
    "$$\n",
    "\n",
    "provided that $P(B) > 0$. Because obviously you cannot divide with $0$.\n",
    "- $P(A \\cap B)$: Probability that both events $A$ and $B$ occur.\n",
    "- $P(B)$: Probability that event $B$ occurs. \n",
    "\n",
    "### <ins>Examples</ins>\n",
    "Lets look at couple examples for clarity.\n",
    "\n",
    "#### Example 1: Drawing cards\n",
    "- Event $A$: Drawing an ace.\n",
    "- Event $B$: Drawn ace is a red card (hearts or diamonds).\n",
    "\n",
    "Calculate $P(A|B)$:\n",
    "- Total number of cards = $52$.\n",
    "- Number of red cards = $26$.\n",
    "- Number of red aces = $2$.\n",
    "$$\n",
    "P(A \\cap B) = \\frac{2}{52} = \\frac{1}{26}\n",
    "$$\n",
    "\n",
    "$$\n",
    "P(B) = \\frac{26}{52} = \\frac{1}{2}\n",
    "$$\n",
    "\n",
    "so,\n",
    "\n",
    "$$\n",
    "P(A|B) = \\frac{P(A \\cap B)}{P(B)} = \\frac{\\frac{1}{26}}{\\frac{1}{2}} = \\frac{2}{26} = \\frac{1}{13}\n",
    "$$\n",
    "\n",
    "#### Example 2: Rolling a Die\n",
    "- Event $A$: Rolling an even number.\n",
    "- Event $B$: Rolling a number greater than $3$.\n",
    "\n",
    "Calculate $P(A|B)$:\n",
    "- Sample space: $S = \\{1,2,3,4,5,6\\}$.\n",
    "- $A = \\{2, 4, 6\\}$ (even numbers).\n",
    "- $B = \\{4, 5, 6\\}$ (greater than $3$).\n",
    "- $A \\cap B = \\{4, 6\\}$ (even numbers greater than $3$).\n",
    "\n",
    "$$\n",
    "P(A \\cap B) = \\frac{2}{6} = \\frac{1}{3}\n",
    "$$\n",
    "\n",
    "$$\n",
    "P(B) = \\frac{3}{6} = \\frac{1}{2}\n",
    "$$\n",
    "\n",
    "so,\n",
    "\n",
    "$$\n",
    "P(A|B) = \\frac{P(A \\cap B)}{P(B)} = \\frac{\\frac{1}{3}}{\\frac{1}{2}} = \\frac{2}{3}\n",
    "$$\n",
    "\n",
    "### <ins>Python Examples of Conditional Probability</ins>\n",
    "Lets turn those examples into Python code similarly to the examples we did with basic probability.\n",
    "\n",
    "#### Drawing Cards"
   ]
  },
  {
   "cell_type": "code",
   "execution_count": 6,
   "metadata": {},
   "outputs": [
    {
     "name": "stdout",
     "output_type": "stream",
     "text": [
      "Estimated Probability of drawing an Ace given that the card is red: 0.07907527918373905\n"
     ]
    }
   ],
   "source": [
    "# Simulate drawing a card\n",
    "def draw_card():\n",
    "    # 'R' for red cards, 'B' for black cards, 'A' for Ace, 'N' for Non-Ace\n",
    "    deck = ['RA', 'RA'] + ['RN'] * 24 + ['BA'] * 2 + ['BN'] * 24\n",
    "    return random.choice(deck)\n",
    "\n",
    "# Number of simulations\n",
    "num_simulations = 100000\n",
    "count_ace_given_red = 0\n",
    "count_red = 0\n",
    "\n",
    "for _ in range(num_simulations):\n",
    "    card = draw_card()\n",
    "    if 'R' in card:\n",
    "        count_red += 1\n",
    "        if 'A' in card:\n",
    "            count_ace_given_red += 1\n",
    "\n",
    "# Estimated conditional probability\n",
    "prob_ace_given_red = count_ace_given_red / count_red\n",
    "print(f\"Estimated Probability of drawing an Ace given that the card is red: {prob_ace_given_red}\")"
   ]
  },
  {
   "cell_type": "markdown",
   "metadata": {},
   "source": [
    "#### Rolling a Die"
   ]
  },
  {
   "cell_type": "code",
   "execution_count": 7,
   "metadata": {},
   "outputs": [
    {
     "name": "stdout",
     "output_type": "stream",
     "text": [
      "Estimated Probability of rolling an even number given that the roll is greater than 3: 0.6660939060939061\n"
     ]
    }
   ],
   "source": [
    "# Simulate rolling a die\n",
    "def roll_die():\n",
    "    return random.randint(1, 6)\n",
    "\n",
    "# Number of simulations\n",
    "num_simulations = 100000\n",
    "count_even_given_greater_than_3 = 0\n",
    "count_greater_than_3 = 0\n",
    "\n",
    "for _ in range(num_simulations):\n",
    "    roll = roll_die()\n",
    "    if roll > 3:\n",
    "        count_greater_than_3 += 1\n",
    "        if roll % 2 == 0:\n",
    "            count_even_given_greater_than_3 += 1\n",
    "\n",
    "# Estimated conditional probability\n",
    "prob_even_given_greater_than_3 = count_even_given_greater_than_3 / count_greater_than_3\n",
    "print(f\"Estimated Probability of rolling an even number given that the roll is greater than 3: {prob_even_given_greater_than_3}\")"
   ]
  },
  {
   "cell_type": "markdown",
   "metadata": {},
   "source": [
    "****\n",
    "\n",
    "## **Bayes' Theorem**\n",
    "Bayes' theorem allows us to revise out beliefs in light of new evidence. It helps us calculate the probability of an event after considering new information.\n",
    "\n",
    "### <ins>Definition</ins>\n",
    "Bayes' theorem provides a way to update the probability of a hypothesis, $A$, given new evidence, $B$. It combines prior knowledge with new data to give a posterior probability. \n",
    "\n",
    "The formula is: \n",
    "$$\n",
    "P(A|B) = \\frac{P(B|A) \\times P(A)}{P(B)}\n",
    "$$\n",
    "\n",
    "where:\n",
    "- $P(A|B)$ is the posterior probability: the probability of $A$ given $B$ (what we are trying to find).\n",
    "- $P(B|A)$ is the likelihood: the probability of $B$ given $A$.\n",
    "- $P(A)$ is the prior probability: the initial probability $A$.\n",
    "- $P(B)$ is the marginal likelihood: the total probability of $B$.\n",
    "\n",
    "### <ins>Examples</ins>\n",
    "Since probability as a subject is somewhat lesser-abstract concept, it is beneficial to understand it with real-world examples as we saw earlier. We are going to do the same here and hopefully that formula makes more sense. \n",
    "\n",
    "#### Example 1: Medical Diagnosis\n",
    "Suppose a test for a disease is 99% accurate (true positive rate) and has a 1% false positive rate. The disease prevalence in the population is 0.05%. If a person tests positive, what is the probability they actually have the disease? \n",
    "\n",
    "Lets define:\n",
    "- $A$: The event that the person has the disease.\n",
    "- $B$: The event that the person tests positive.\n",
    "\n",
    "We are given:\n",
    "- $P(A) = 0.005$ (prior probability)\n",
    "- $P(B|A) = 0.99$ (likelihood)\n",
    "- $P(B|A^c) = 0.01$ (false positive rate, where $A^c$ is the event that the person does not have the disease)\n",
    "\n",
    "Now we need to find $P(A|B)$.\n",
    "\n",
    "First, calculate $P(B)$:\n",
    "$$\n",
    "P(B) = P(B|A) \\times P(A) + P(B|A^c) \\times P(A^c)\n",
    "$$\n",
    "\n",
    "$$\n",
    "P(B) = (0.99 \\times 0.005) + (0.01 \\times 0.995) = 0.00495 + 0.00995 = 0.0149\n",
    "$$\n",
    "\n",
    "Now we use the Bayes' theorem:\n",
    "$$\n",
    "P(A|B) = \\frac{P(B|A) \\times P(A)}{P(B)} = \\frac{0.99 \\times 0.005}{0.149} \\approx 0.332\n",
    "$$\n",
    "\n",
    "So the probability that the person actually has the disease given a positive test result is about 33.2%. Maybe they should find more accurate tests.\n",
    "\n",
    "#### Example 2: Spam Filtering\n",
    "Suppose you have an email spam filter that uses Bayesian inference to determine whether an email is spam. We know that:\n",
    "- 20% of emails are spam ($P(\\text{Spam}) = 0.2$).\n",
    "- A certain word appears in 50% of spam emails ($P(\\text{Word}|\\text{Spam}) = 0.5$).\n",
    "- The same word appears in 5% of non-spam emails ($P(\\text{Word}|\\text{Not Spam}) = 0.05$).\n",
    "\n",
    "If an email contains this word, what is the probability that is is spam?\n",
    "\n",
    "Lets define:\n",
    "- $A$: The event that the email is spam.\n",
    "- $B$: The event that the email contains the word.\n",
    "\n",
    "We are given: \n",
    "- $P(A) = 0.2$\n",
    "- $P(B|A) = 0.5$ \n",
    "- $P(B|A^c) = 0.05$ \n",
    "\n",
    "Next we find $P(A|B)$.\n",
    "\n",
    "Calculate $P(B)$:\n",
    "$$\n",
    "P(B) = (0.5 \\times 0.2) + (0.05 \\times 0.8) = 0.14\n",
    "$$\n",
    "\n",
    "Apply Bayes' theorem:\n",
    "$$\n",
    "P(A|B) = \\frac{0.5 \\times 0.2}{0.14} \\approx 0.714\n",
    "$$\n",
    "\n",
    "So we can conclude that the person needs to stop signing up for random websites, because there is about 71.4% chance that their email is spam.\n",
    "\n",
    "### <ins>Python Examples of Bayes' Theorem</ins>\n",
    "Now lets put those examples into Python code even though it is just simple arithmetics and no external libraries needed. We have had Python examples after each section so I am not going to break the tradition. There exists a library which is ever-growing in popularity, called TensorFlow. However it is used for more advanced probability calculations and we do not need that here now. In the later documents I am sure that we will be using it in some other context. \n",
    "\n",
    "#### Python Example 1: Medical Diagnosis"
   ]
  },
  {
   "cell_type": "code",
   "execution_count": 8,
   "metadata": {},
   "outputs": [
    {
     "name": "stdout",
     "output_type": "stream",
     "text": [
      "Probability of having the disease given a positive test result: 0.3322\n"
     ]
    }
   ],
   "source": [
    "# Given values\n",
    "P_A = 0.005  # Prior probability of having the disease\n",
    "P_B_given_A = 0.99  # Probability of testing positive given having the disease\n",
    "P_B_given_Ac = 0.01  # Probability of testing positive given not having the disease\n",
    "\n",
    "# Calculate P(B)\n",
    "P_Ac = 1 - P_A  # Probability of not having the disease\n",
    "P_B = (P_B_given_A * P_A) + (P_B_given_Ac * P_Ac)\n",
    "\n",
    "# Apply Bayes' Theorem\n",
    "P_A_given_B = (P_B_given_A * P_A) / P_B\n",
    "print(f\"Probability of having the disease given a positive test result: {P_A_given_B:.4f}\")"
   ]
  },
  {
   "cell_type": "markdown",
   "metadata": {},
   "source": [
    "#### Python Example 2: Spam Filtering"
   ]
  },
  {
   "cell_type": "code",
   "execution_count": 9,
   "metadata": {},
   "outputs": [
    {
     "name": "stdout",
     "output_type": "stream",
     "text": [
      "Probability of an email being spam given it contains the word: 0.7143\n"
     ]
    }
   ],
   "source": [
    "# Given values\n",
    "P_Spam = 0.2  # Prior probability of an email being spam\n",
    "P_Word_given_Spam = 0.5  # Probability of the word appearing given the email is spam\n",
    "P_Word_given_NotSpam = 0.05  # Probability of the word appearing given the email is not spam\n",
    "\n",
    "# Calculate P(Word)\n",
    "P_NotSpam = 1 - P_Spam  # Probability of an email not being spam\n",
    "P_Word = (P_Word_given_Spam * P_Spam) + (P_Word_given_NotSpam * P_NotSpam)\n",
    "\n",
    "# Apply Bayes' Theorem\n",
    "P_Spam_given_Word = (P_Word_given_Spam * P_Spam) / P_Word\n",
    "print(f\"Probability of an email being spam given it contains the word: {P_Spam_given_Word:.4f}\")"
   ]
  },
  {
   "cell_type": "markdown",
   "metadata": {},
   "source": [
    "****\n",
    "\n",
    "## **Probability Distributions**\n",
    "This is a subject close, if not in the area of statistics already. In this section we have 3 main concepts to look at, but this time the Python examples are integrated into each sub-section. I chose this approach for clarity reasons. We also wont be diving deep into statistics, since that subject has its own document. This final section functions as a bridge to that document.\n",
    "\n",
    "### <ins>Normal Distribution</ins>\n",
    "The normal distribution - also known as the Gaussian distribution - is one of the most important probability distributions in statistics. It is widely used due its natural occurrence in many processes and its mathematical properties.\n",
    "\n",
    "#### Characteristics\n",
    "- **Random Variable $(X)$**: A variable representing outcomes of a random phenomenon. The the case of the normal distribution, $X$ can take any real number.\n",
    "- **Mean $(\\mu)$ \"mu\"**: The center of the distribution.\n",
    "- **Standard Deviation $(\\sigma)$**: Measures the spread of the distribution.\n",
    "- **Probability Density Function (PDF)**: Describes the relative likelihood of the random variable $X$ taking a specific value.\n",
    "- **Cumulative Distribution Function (CDF)**: Describes the probability that the random variable $X$ will take a value less than or equal to a specific value. \n",
    "\n",
    "#### Probability Density Function (PDF)\n",
    "The PDF of the normal distribution is given by:\n",
    "$$\n",
    "f(x|\\mu, \\sigma^2) = \\frac{1}{\\sqrt{2 \\pi \\sigma^2}}\\text{exp}(- \\frac{(x - \\mu)^2}{2 \\sigma^2})\n",
    "$$\n",
    "\n",
    "where:\n",
    "- $X$ is the random variable.\n",
    "- $x$ is a specific value $X$ can take.\n",
    "- $\\mu$ is the mean.\n",
    "- $\\sigma$ is the standard deviation.\n",
    "- $\\sigma^2$ is the variance.\n",
    "\n",
    "The PDF gives the relative likelihood of the random variable $X$ taking a specific value $x$. \n",
    "\n",
    "#### Cumulative Distribution Function (CDF)\n",
    "The CDF of the normal distribution gives the probability that the random variable $X$ is less than or equal to certain value $x$. It is the integral of the PDF from $- \\infty$ to $x$:\n",
    "$$\n",
    "F(x) = P(X \\leq x) = \\int\\limits_{-\\infty}^x f(t)dt\n",
    "$$\n",
    "\n",
    "The CDF provides the cumulative probability up to a specific value $x$.\n",
    "\n",
    "Maybe an example would make more sense than \"scary\" math formulas. Lets do one with heights of adult men.\n",
    "\n",
    "Suppose the height of adult men are normally distributed with a mean of 175cm and standard deviation of 7.5cm. The question is: What is the probability that a randomly selected man is between 170cm and 180cm tall?\n",
    "\n",
    "1. Convert to Z-scores. Z-scores are standardized scores that indicate how many standard deviations a data point $x$ is from the mean $(\\mu)$ of the distribution. They are calculated by using the formula: $Z = \\frac{x - \\mu}{\\sigma}$ and then referring the value to a correct Z-score in the standard normal distribution table (found online just look it up, it makes more sense).\n",
    "\n",
    "For $X = 170$:\n",
    "$$\n",
    "Z_{170} = \\frac{170 - 175}{7.5} = \\frac{-5}{7.5} \\approx -0.67\n",
    "$$\n",
    "\n",
    "For $X = 180$:\n",
    "$$\n",
    "Z_{180} = \\frac{180 - 175}{7.5} = \\frac{5}{7.5} \\approx 0.67\n",
    "$$\n",
    "\n",
    "2. Look up the Z-scores in the standard normal distribution table:\n",
    "\n",
    "Using Z-table:\n",
    "$$\n",
    "P(Z \\leq 0.67) \\approx 0.7486\n",
    "$$\n",
    "\n",
    "$$\n",
    "P(Z \\leq -0.67) \\approx 0.2514\n",
    "$$\n",
    "\n",
    "3. Then finally we calculate the probability:\n",
    "The probability that a randomly selceted man is between 170cm and 180cm tall is the difference between these two probabilities:\n",
    "$$\n",
    "P(170 \\leq X 180) = P(Z \\leq 0.67) - P(Z \\leq -0.67) = 0.7486 - 0.2514 = 0.4972\n",
    "$$ \n",
    "\n",
    "So the probability is approximately 49.72%.\n",
    "\n",
    "The same example can be done easily with Python:"
   ]
  },
  {
   "cell_type": "code",
   "execution_count": 10,
   "metadata": {},
   "outputs": [
    {
     "name": "stdout",
     "output_type": "stream",
     "text": [
      "Probability that a randomly selected man is between 170 cm and 180 cm tall: 0.4950\n"
     ]
    }
   ],
   "source": [
    "import scipy.stats as stats\n",
    "\n",
    "# Mean and standard deviation\n",
    "mu = 175\n",
    "sigma = 7.5\n",
    "\n",
    "# Calculate the probability\n",
    "probability = stats.norm.cdf(180, mu, sigma) - stats.norm.cdf(170, mu, sigma)\n",
    "print(f\"Probability that a randomly selected man is between 170 cm and 180 cm tall: {probability:.4f}\")"
   ]
  },
  {
   "cell_type": "markdown",
   "metadata": {},
   "source": [
    "You may notice that the result is different from what we did by hand. This is because Python's `scipy.stats.norm.cdf` function provides a more precise calculation compared to manual methods, even if the difference is small. Another win for computers. \n",
    "\n",
    "While CDF gives us the probability of falling within a range, the PDF can give us the relative likelihood of any specific value. To calculate the height of PDF at a specific point, say 175cm:\n",
    "\n",
    "$$\n",
    "f(175|175,7.5^2) = \\frac{1}{\\sqrt{2 \\pi \\cdot 7.5^2}} \\text{exp} (-\\frac{(175-175)^2}{2 \\cdot 7.5^2})\n",
    "$$\n",
    "\n",
    "Since (175-175) = 0, the exponential term becomes 0:\n",
    "\n",
    "$$\n",
    "f(175|175,7.5^2) = \\frac{1}{\\sqrt{2 \\pi \\cdot 7.5^2}} = \\frac{1}{\\sqrt{2 \\pi \\cdot 56.25}} = \\frac{1}{\\sqrt{353.429}} \\approx \\frac{1}{18.8} \\approx 0.0532\n",
    "$$\n",
    "\n",
    "So the height of the PDF at the mean (175cm) is approximately 0.0532. This tells us the relative likelihood of a man being exactly 175cm tall. About 5% chance. \n",
    "\n",
    "We can visualize this with Python:"
   ]
  },
  {
   "cell_type": "code",
   "execution_count": 11,
   "metadata": {},
   "outputs": [
    {
     "data": {
      "image/png": "[encoded data removed]",
      "text/plain": [
       "<Figure size 640x480 with 1 Axes>"
      ]
     },
     "metadata": {},
     "output_type": "display_data"
    }
   ],
   "source": [
    "import numpy as np\n",
    "import matplotlib.pyplot as plt\n",
    "\n",
    "# Mean and standard deviation\n",
    "mu = 175\n",
    "sigma = 7.5\n",
    "\n",
    "# Create a range of values\n",
    "x = np.linspace(mu - 4*sigma, mu + 4*sigma, 1000)\n",
    "\n",
    "# Calculate the PDF\n",
    "pdf = stats.norm.pdf(x, mu, sigma)\n",
    "\n",
    "# Plot the PDF\n",
    "plt.plot(x, pdf, label='Normal Distribution')\n",
    "plt.fill_between(x, pdf, where=((x >= 170) & (x <= 180)), color='gray', alpha=0.5)\n",
    "plt.title('Normal Distribution with Mean 175 cm and SD 7.5 cm')\n",
    "plt.xlabel('Height (cm)')\n",
    "plt.ylabel('Probability Density')\n",
    "plt.legend()\n",
    "plt.show()"
   ]
  },
  {
   "cell_type": "markdown",
   "metadata": {},
   "source": [
    "### <ins>Binomial Distribution</ins>\n",
    "The binomial distribution is a discrete probability distribution that models the number of successes in a fixed number of independent Bernoulli trials (or binomial trials), each with the same probability of success. It is used scenarios where there are two possible outcomes - success and failure - for each trial.\n",
    "\n",
    "#### Characteristics\n",
    "- **Number of Trials $(n)$**: The fixed number of Bernoulli trials.\n",
    "- **Probability of Success $(p)$**: The probability of success on each trial.\n",
    "- **Random Variable $(X)$**: The number of successes in $n$ trials.\n",
    "\n",
    "#### Probability Mass Function (PMF) (For Binomial Probability)\n",
    "The probability of obtaining exactly $k$ successes in $n$ trials is given by the PMF:\n",
    "$$\n",
    "P(X = k) = \\binom{n}{k}p^k(1-p)^{n-k}\n",
    "$$\n",
    "\n",
    "where:\n",
    "\n",
    "- $\\binom{n}{k} = \\frac{n!}{k!(n-k)}$ is the binomial coefficient, representing the number of ways to choose $k$ successes out of $n$ trials.\n",
    "- $p$ is the probability of success.\n",
    "- $(1-p)$ is the probability of failure.\n",
    "\n",
    "Lets look at an example that is most definitely a reflection of my experience, but a common occurrence that can happen to anyone. Suppose that you are playing *Overwatch* and the probability of you getting a bad team is $p = 0.5$. You play 10 matches, what is the probability that you lose exactly 6 matches?\n",
    "\n",
    "1. Identify parameters:\n",
    "    - $n = 10$\n",
    "    - $p = 0.5$\n",
    "    - $k = 6$\n",
    "\n",
    "2. Calculate the binomial coefficient:\n",
    "$$\n",
    "\\binom{10}{6} = 210\n",
    "$$\n",
    "\n",
    "3. Plug into the PMF formula:\n",
    "$$\n",
    "P(X = 6) = 210 \\times (0.5)^6 \\times (0.5)^4 = 210 \\times (0.5)^10 = 210 \\times \\frac{1}{1024} \\approx 0.2051\n",
    "$$\n",
    "\n",
    "So your chances of losing exactly 6 matches is approximately 21%. Quite lucky!\n",
    "\n",
    "Now the same thing pin Python:"
   ]
  },
  {
   "cell_type": "code",
   "execution_count": 12,
   "metadata": {},
   "outputs": [
    {
     "name": "stdout",
     "output_type": "stream",
     "text": [
      "Probability of losing exactly 6 matches in 10 total matches: 0.2051\n"
     ]
    }
   ],
   "source": [
    "# Parameters\n",
    "n = 10\n",
    "p = 0.5\n",
    "k = 6\n",
    "\n",
    "# Calculate the probability\n",
    "probability = stats.binom.pmf(k, n, p)\n",
    "print(f\"Probability of losing exactly 6 matches in 10 total matches: {probability:.4f}\")"
   ]
  },
  {
   "cell_type": "markdown",
   "metadata": {},
   "source": [
    "We can also visualize your achievement to really sink it in: "
   ]
  },
  {
   "cell_type": "code",
   "execution_count": 13,
   "metadata": {},
   "outputs": [
    {
     "data": {
      "image/png": "[encoded data removed]",
      "text/plain": [
       "<Figure size 640x480 with 1 Axes>"
      ]
     },
     "metadata": {},
     "output_type": "display_data"
    }
   ],
   "source": [
    "# Parameters\n",
    "n = 10\n",
    "p = 0.5\n",
    "\n",
    "# Create a range of values\n",
    "k_values = np.arange(0, n+1)\n",
    "\n",
    "# Calculate the PMF\n",
    "pmf_values = stats.binom.pmf(k_values, n, p)\n",
    "\n",
    "# Plot the PMF\n",
    "plt.bar(k_values, pmf_values, label='Binomial Distribution')\n",
    "plt.xlabel('Number of Matches Lost (k)')\n",
    "plt.ylabel('Probability')\n",
    "plt.title('Binomial Distribution: n=10, p=0.5')\n",
    "plt.legend()\n",
    "plt.show()"
   ]
  },
  {
   "cell_type": "markdown",
   "metadata": {},
   "source": [
    "### <ins>Poisson Distribution</ins>\n",
    "The Poisson distribution is a discrete probability distribution that models the number of events occurring within a fixed interval of time or space, given that these events happen at a constant average rate and independently of the time since the last event.\n",
    "\n",
    "#### Characteristics:\n",
    "- **Rate $(\\lambda)$**: The average number of events in a given interval.\n",
    "- **Random Variable $(X)$**: The number of events in the interval.\n",
    "\n",
    "#### Probability Mass Function (PMF) (For Poisson Probability)\n",
    "You might have noticed how we use PMF here too. This is not to confuse you. When we talk about PMF, the form of the formula differs depending on where we use it. Here the probability of observing $k$ events in the interval is given by the PMF:\n",
    "$$\n",
    "P(X = k) = \\frac{\\lambda^k e^{-\\lambda}}{k!}\n",
    "$$\n",
    "\n",
    "where:\n",
    "\n",
    "- $\\lambda$ is the average rate of events.\n",
    "- $k$ is the number of events.\n",
    "- $e$ is the base of the natural logarithm (approx. 2.71828).\n",
    "\n",
    "Lets have another common occurrence that happens to everyone playing competitive games. Suppose that you get heated by losing so many matches in the game and report an average of 5 players per hour $(\\lambda = 5)$ for ruining your game. What is the probability that you report exactly 3 players in the next hour?\n",
    "\n",
    "1. Identify parameters:\n",
    "    - $\\lambda = 5$\n",
    "    - $k = 3$\n",
    "\n",
    "2. Plug into the PMF formula:\n",
    "$$\n",
    "P(X = 3) = \\frac{5^3 e^{-5}}{3!} = \\frac{125 \\cdot e^{-5}}{6} \\approx \\frac{125 \\cdot 0.0067}{6} \\approx 0.1404\n",
    "$$\n",
    "\n",
    "So there is approximately 14% chance that you will report exactly 3 players within the next hour you play the game.\n",
    "\n",
    "Python way of calculating it:"
   ]
  },
  {
   "cell_type": "code",
   "execution_count": 14,
   "metadata": {},
   "outputs": [
    {
     "name": "stdout",
     "output_type": "stream",
     "text": [
      "Probability of reporting exactly 3 players in the next hour: 0.1404\n"
     ]
    }
   ],
   "source": [
    "# Parameters\n",
    "lambda_ = 5\n",
    "k = 3\n",
    "\n",
    "# Calculate the probability\n",
    "probability = stats.poisson.pmf(k, lambda_)\n",
    "print(f\"Probability of reporting exactly 3 players in the next hour: {probability:.4f}\")"
   ]
  },
  {
   "cell_type": "markdown",
   "metadata": {},
   "source": [
    "Next the visualization of the Poisson distribution for an average rate of 5 reports per hour:"
   ]
  },
  {
   "cell_type": "code",
   "execution_count": 15,
   "metadata": {},
   "outputs": [
    {
     "data": {
      "image/png": "[encoded data removed]",
      "text/plain": [
       "<Figure size 640x480 with 1 Axes>"
      ]
     },
     "metadata": {},
     "output_type": "display_data"
    }
   ],
   "source": [
    "# Parameters\n",
    "lambda_ = 5\n",
    "\n",
    "# Create a range of values\n",
    "k_values = np.arange(0, 15)\n",
    "\n",
    "# Calculate the PMF\n",
    "pmf_values = stats.poisson.pmf(k_values, lambda_)\n",
    "\n",
    "# Plot the PMF\n",
    "plt.bar(k_values, pmf_values, label='Poisson Distribution')\n",
    "plt.xlabel('Number of Reports (k)')\n",
    "plt.ylabel('Probability')\n",
    "plt.title('Poisson Distribution: λ=5')\n",
    "plt.legend()\n",
    "plt.show()"
   ]
  }
 ],
 "metadata": {
  "kernelspec": {
   "display_name": ".venv",
   "language": "python",
   "name": "python3"
  },
  "language_info": {
   "codemirror_mode": {
    "name": "ipython",
    "version": 3
   },
   "file_extension": ".py",
   "mimetype": "text/x-python",
   "name": "python",
   "nbconvert_exporter": "python",
   "pygments_lexer": "ipython3",
   "version": "3.10.5"
  }
 },
 "nbformat": 4,
 "nbformat_minor": 2
}
