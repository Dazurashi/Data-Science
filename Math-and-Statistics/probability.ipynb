{
 "cells": [
  {
   "cell_type": "markdown",
   "metadata": {},
   "source": [
    "# <ins>**Probability Theory**</ins>\n",
    "\n",
    "## **Importance to Data Science**\n",
    "Probability is the foundation of statistical methods. It plays a key role in data science themes like probabilistic models such as *Bayesian networks* and *Gaussian processes*, further expanding to machine learning algorithms. It is also critical to understand probability theory when doing error analysis and risk assessments. In this document we wont dive deep into any of these subjects but explore the core basics of understanding several probability concepts. However you might see these fancier applications in the future documents. Overall, probability theory provides the mathematical framework and tools necessary for dealing with the inherent uncertainty and variability in data, making it indispensable in data science for analysis, modeling, prediction, and decision-making.\n"
   ]
  },
  {
   "cell_type": "markdown",
   "metadata": {},
   "source": [
    "****\n",
    "\n",
    "## **Basic Probability**\n",
    "\n",
    "### <ins>Definitions</ins>\n",
    "If you read the past documents before jumping into this one, you might feel like being on a vacation because a lot of concepts in probability are easier to understand than in linear algebra or calculus. This is my \"unbiased\" opinion.\n",
    "\n",
    "First we should define few reoccurring words that you will see throughout the document:\n",
    "- **Probability**: The likelyhood that an event will occur, ranging from 0 (impossible event) to 1 (certain event).\n",
    "- **Experiment**: An activity with uncertain outcome, rolling a die.\n",
    "- **Sample Space $(S)$**: The set of all possible outcomes of an experiment. For example $S = \\{1, 2, 3, 4, 5, 6\\}$ for a die roll.\n",
    "- **Event**: A subset of the sample space. For example rolling an even number $A = \\{2,4,6\\}$.\n",
    "\n",
    "### <ins>Calculating Probability</ins>\n",
    "- The probability of an event $A$ occurring is:\n",
    "$$\n",
    "P(A) = \\frac{\\text{Number of favorable outcomes}}{\\text{Total number of possible outcomes}}\n",
    "$$\n",
    "\n",
    "Makes common sense if you think about it. Now here are couple examples:\n",
    "\n",
    "1. Rolling a die:\n",
    "    - Sample space: $S$ = \\{1,2,3,4,5,6\\}\n",
    "    - Event: Rolling a $3$\n",
    "    - Probability:\n",
    "    $$\n",
    "    P(\\text{Drawing an Ace}) = \\frac{1}{6}\n",
    "    $$\n",
    "\n",
    "2. Drawing a card from a deck\n",
    "    - Sample space: 52 cards\n",
    "    - Event: Drawing an ace\n",
    "    - Probability\n",
    "    $$\n",
    "    P(\\text{Drawing an ace}) = \\frac{4}{52} = \\frac{1}{13}\n",
    "    $$"
   ]
  }
 ],
 "metadata": {
  "language_info": {
   "name": "python"
  }
 },
 "nbformat": 4,
 "nbformat_minor": 2
}
