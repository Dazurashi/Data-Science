{
 "cells": [
  {
   "cell_type": "markdown",
   "metadata": {},
   "source": [
    "# <ins>**Probability Theory**</ins>\n",
    "\n",
    "## **Importance to Data Science**\n",
    "Probability is the foundation of statistical methods. It plays a key role in data science themes like probabilistic models such as *Bayesian networks* and *Gaussian processes*, further expanding to machine learning algorithms. It is also critical to understand probability theory when doing error analysis and risk assessments. In this document we wont dive deep into any of these subjects but explore the core basics of understanding several probability concepts. However you might see these fancier applications in the future documents. Overall, probability theory provides the mathematical framework and tools necessary for dealing with the inherent uncertainty and variability in data, making it indispensable in data science for analysis, modeling, prediction, and decision-making.\n"
   ]
  },
  {
   "cell_type": "markdown",
   "metadata": {},
   "source": [
    "****\n",
    "\n",
    "## **Basic Probability**\n",
    "\n",
    "### <ins>Definitions</ins>\n",
    "If you read the past documents before jumping into this one, you might feel like being on a vacation because a lot of concepts in probability are easier to understand than in linear algebra or calculus. This is my \"unbiased\" opinion.\n",
    "\n",
    "First we should define few reoccurring words that you will see throughout the document:\n",
    "- **Probability**: The likelyhood that an event will occur, ranging from 0 (impossible event) to 1 (certain event).\n",
    "- **Experiment**: An activity with uncertain outcome, rolling a die.\n",
    "- **Sample Space $(S)$**: The set of all possible outcomes of an experiment. For example $S = \\{1, 2, 3, 4, 5, 6\\}$ for a die roll.\n",
    "- **Event**: A subset of the sample space. For example rolling an even number $A = \\{2,4,6\\}$.\n",
    "\n",
    "### <ins>Calculating Probability</ins>\n",
    "- The probability of an event $A$ occurring is:\n",
    "$$\n",
    "P(A) = \\frac{\\text{Number of favorable outcomes}}{\\text{Total number of possible outcomes}}\n",
    "$$\n",
    "\n",
    "Makes common sense if you think about it. Now here are couple examples:\n",
    "\n",
    "1. Rolling a die:\n",
    "    - Sample space: $S$ = \\{1,2,3,4,5,6\\}\n",
    "    - Event: Rolling a $3$\n",
    "    - Probability:\n",
    "    $$\n",
    "    P(\\text{Drawing an Ace}) = \\frac{1}{6}\n",
    "    $$\n",
    "\n",
    "2. Drawing a card from a deck\n",
    "    - Sample space: 52 cards\n",
    "    - Event: Drawing an ace\n",
    "    - Probability\n",
    "    $$\n",
    "    P(\\text{Drawing an ace}) = \\frac{4}{52} = \\frac{1}{13}\n",
    "    $$\n",
    "\n",
    "### <ins>Probability Rules</ins>\n",
    "There are way more rules than listed in this document, but here are the basic ones you should know:\n",
    "\n",
    "- **Complementary Events**: The probability of the complement of an event $A$ (denoted as $A^c$) is:\n",
    "$$\n",
    "P(A^c) = 1 - P(A)\n",
    "$$\n",
    "\n",
    "- **Union of Events**: The probability that either event $A$ or event $B$ occurs (or both):\n",
    "$$\n",
    "P(A \\cup B) = P(A) + P(B) - P(A \\cap B)\n",
    "$$\n",
    "\n",
    "- **Intersection of Events**: The probability that both events $A$ and $B$ occur (if $A$ and $B$ are independent):\n",
    "$$\n",
    "P(A \\cap B) = P(A) \\times P(B)\n",
    "$$\n",
    "\n",
    "### <ins>Python Examples of Basic Probability</ins>\n",
    "Here are few examples of how to calculate basic probabilities in Python as well as applying probability rules\n",
    "\n",
    "#### Rolling a Die"
   ]
  },
  {
   "cell_type": "code",
   "execution_count": 1,
   "metadata": {},
   "outputs": [
    {
     "name": "stdout",
     "output_type": "stream",
     "text": [
      "Estimated Probability of rolling a 3: 0.16582\n"
     ]
    }
   ],
   "source": [
    "import random\n",
    "\n",
    "# Simulate rolling a die\n",
    "def roll_die():\n",
    "    return random.randint(1, 6)\n",
    "\n",
    "# Number of simulations\n",
    "num_simulations = 100000\n",
    "count_3 = 0\n",
    "\n",
    "for _ in range(num_simulations):\n",
    "    if roll_die() == 3:\n",
    "        count_3 += 1\n",
    "\n",
    "# Estimated probability\n",
    "prob_3 = count_3 / num_simulations\n",
    "print(f\"Estimated Probability of rolling a 3: {prob_3}\")"
   ]
  },
  {
   "cell_type": "markdown",
   "metadata": {},
   "source": [
    "#### Drawing a Card from a Deck"
   ]
  },
  {
   "cell_type": "code",
   "execution_count": 2,
   "metadata": {},
   "outputs": [
    {
     "name": "stdout",
     "output_type": "stream",
     "text": [
      "Estimated Probability of drawing an Ace: 0.07809\n"
     ]
    }
   ],
   "source": [
    "# Simulate drawing a card\n",
    "def draw_card():\n",
    "    deck = ['Ace'] * 4 + ['Non-Ace'] * 48\n",
    "    return random.choice(deck)\n",
    "\n",
    "# Number of simulations\n",
    "num_simulations = 100000\n",
    "count_ace = 0\n",
    "\n",
    "for _ in range(num_simulations):\n",
    "    if draw_card() == 'Ace':\n",
    "        count_ace += 1\n",
    "\n",
    "# Estimated probability\n",
    "prob_ace = count_ace / num_simulations\n",
    "print(f\"Estimated Probability of drawing an Ace: {prob_ace}\")"
   ]
  },
  {
   "cell_type": "markdown",
   "metadata": {},
   "source": [
    "#### Complementary Events"
   ]
  },
  {
   "cell_type": "code",
   "execution_count": 3,
   "metadata": {},
   "outputs": [
    {
     "name": "stdout",
     "output_type": "stream",
     "text": [
      "Probability of drawing a non-Ace card: 0.9230769230769231\n"
     ]
    }
   ],
   "source": [
    "# Probability of drawing a non-Ace card\n",
    "prob_non_ace = 1 - (4 / 52)\n",
    "print(f\"Probability of drawing a non-Ace card: {prob_non_ace}\")"
   ]
  },
  {
   "cell_type": "markdown",
   "metadata": {},
   "source": [
    "#### Union of Events (Rolling a 2 or 4)"
   ]
  },
  {
   "cell_type": "code",
   "execution_count": 4,
   "metadata": {},
   "outputs": [
    {
     "name": "stdout",
     "output_type": "stream",
     "text": [
      "Estimated Probability of rolling a 2 or 4: 0.333\n"
     ]
    }
   ],
   "source": [
    "# Simulate rolling a die\n",
    "def roll_die():\n",
    "    return random.randint(1, 6)\n",
    "\n",
    "# Number of simulations\n",
    "num_simulations = 100000\n",
    "count_2_or_4 = 0\n",
    "\n",
    "for _ in range(num_simulations):\n",
    "    if roll_die() in [2, 4]:\n",
    "        count_2_or_4 += 1\n",
    "\n",
    "# Estimated probability\n",
    "prob_2_or_4 = count_2_or_4 / num_simulations\n",
    "print(f\"Estimated Probability of rolling a 2 or 4: {prob_2_or_4}\")"
   ]
  },
  {
   "cell_type": "markdown",
   "metadata": {},
   "source": [
    "#### Intersection of Independent Events (Rolling a 2 and flipping a head)"
   ]
  },
  {
   "cell_type": "code",
   "execution_count": 5,
   "metadata": {},
   "outputs": [
    {
     "name": "stdout",
     "output_type": "stream",
     "text": [
      "Estimated Probability of rolling a 2 and flipping Heads: 0.08247\n"
     ]
    }
   ],
   "source": [
    "# Simulate flipping a coin\n",
    "def flip_coin():\n",
    "    return random.choice(['Heads', 'Tails'])\n",
    "\n",
    "# Number of simulations\n",
    "num_simulations = 100000\n",
    "count_2_and_heads = 0\n",
    "\n",
    "for _ in range(num_simulations):\n",
    "    if roll_die() == 2 and flip_coin() == 'Heads':\n",
    "        count_2_and_heads += 1\n",
    "\n",
    "# Estimated probability\n",
    "prob_2_and_heads = count_2_and_heads / num_simulations\n",
    "print(f\"Estimated Probability of rolling a 2 and flipping Heads: {prob_2_and_heads}\")"
   ]
  },
  {
   "cell_type": "markdown",
   "metadata": {},
   "source": [
    "****\n",
    "\n",
    "## **Conditional Probability**\n",
    "\n",
    "### <ins>Definition</ins>\n",
    "Conditional probability measures the probability of and event occurring given that another event has already occurred. It is denoted by $P(A|B)$, which reads as \"the probability of $A$ given $B$.\n",
    "\n",
    "The formula for solving conditional probability is:\n",
    "$$\n",
    "P(A|B) = \\frac{P(A \\cap B)}{P(B)}\n",
    "$$\n",
    "\n",
    "provided that $P(B) > 0$. Because obviously you cannot divide with $0$.\n",
    "- $P(A \\cap B)$: Probability that both events $A$ and $B$ occur.\n",
    "- $P(B)$: Probability that event $B$ occurs. \n",
    "\n",
    "### <ins>Examples</ins>\n",
    "Lets look at couple examples for clarity.\n",
    "\n",
    "#### Example 1: Drawing cards\n",
    "- Event $A$: Drawing an ace.\n",
    "- Event $B$: Drawn ace is a red card (hearts or diamonds).\n",
    "\n",
    "Calculate $P(A|B)$:\n",
    "- Total number of cards = $52$.\n",
    "- Number of red cards = $26$.\n",
    "- Number of red aces = $2$.\n",
    "$$\n",
    "P(A \\cap B) = \\frac{2}{52} = \\frac{1}{26}\n",
    "$$\n",
    "\n",
    "$$\n",
    "P(B) = \\frac{26}{52} = \\frac{1}{2}\n",
    "$$\n",
    "\n",
    "so,\n",
    "\n",
    "$$\n",
    "P(A|B) = \\frac{P(A \\cap B)}{P(B)} = \\frac{\\frac{1}{26}}{\\frac{1}{2}} = \\frac{2}{26} = \\frac{1}{13}\n",
    "$$\n",
    "\n",
    "#### Example 2: Rolling a Die\n",
    "- Event $A$: Rolling an even number.\n",
    "- Event $B$: Rolling a number greater than $3$.\n",
    "\n",
    "Calculate $P(A|B)$:\n",
    "- Sample space: $S = \\{1,2,3,4,5,6\\}$.\n",
    "- $A = \\{2, 4, 6\\}$ (even numbers).\n",
    "- $B = \\{4, 5, 6\\}$ (greater than $3$).\n",
    "- $A \\cap B = \\{4, 6\\}$ (even numbers greater than $3$).\n",
    "\n",
    "$$\n",
    "P(A \\cap B) = \\frac{2}{6} = \\frac{1}{3}\n",
    "$$\n",
    "\n",
    "$$\n",
    "P(B) = \\frac{3}{6} = \\frac{1}{2}\n",
    "$$\n",
    "\n",
    "so,\n",
    "\n",
    "$$\n",
    "P(A|B) = \\frac{P(A \\cap B)}{P(B)} = \\frac{\\frac{1}{3}}{\\frac{1}{2}} = \\frac{2}{3}\n",
    "$$\n",
    "\n",
    "### <ins>Python Examples of Conditional Probability</ins>\n",
    "Lets turn those examples into Python code similarly to the examples we did with basic probability.\n",
    "\n",
    "#### Drawing Cards"
   ]
  },
  {
   "cell_type": "code",
   "execution_count": 6,
   "metadata": {},
   "outputs": [
    {
     "name": "stdout",
     "output_type": "stream",
     "text": [
      "Estimated Probability of drawing an Ace given that the card is red: 0.0778595583847225\n"
     ]
    }
   ],
   "source": [
    "# Simulate drawing a card\n",
    "def draw_card():\n",
    "    # 'R' for red cards, 'B' for black cards, 'A' for Ace, 'N' for Non-Ace\n",
    "    deck = ['RA', 'RA'] + ['RN'] * 24 + ['BA'] * 2 + ['BN'] * 24\n",
    "    return random.choice(deck)\n",
    "\n",
    "# Number of simulations\n",
    "num_simulations = 100000\n",
    "count_ace_given_red = 0\n",
    "count_red = 0\n",
    "\n",
    "for _ in range(num_simulations):\n",
    "    card = draw_card()\n",
    "    if 'R' in card:\n",
    "        count_red += 1\n",
    "        if 'A' in card:\n",
    "            count_ace_given_red += 1\n",
    "\n",
    "# Estimated conditional probability\n",
    "prob_ace_given_red = count_ace_given_red / count_red\n",
    "print(f\"Estimated Probability of drawing an Ace given that the card is red: {prob_ace_given_red}\")"
   ]
  },
  {
   "cell_type": "markdown",
   "metadata": {},
   "source": [
    "#### Rolling a Die"
   ]
  },
  {
   "cell_type": "code",
   "execution_count": 7,
   "metadata": {},
   "outputs": [
    {
     "name": "stdout",
     "output_type": "stream",
     "text": [
      "Estimated Probability of rolling an even number given that the roll is greater than 3: 0.6692172804080982\n"
     ]
    }
   ],
   "source": [
    "# Simulate rolling a die\n",
    "def roll_die():\n",
    "    return random.randint(1, 6)\n",
    "\n",
    "# Number of simulations\n",
    "num_simulations = 100000\n",
    "count_even_given_greater_than_3 = 0\n",
    "count_greater_than_3 = 0\n",
    "\n",
    "for _ in range(num_simulations):\n",
    "    roll = roll_die()\n",
    "    if roll > 3:\n",
    "        count_greater_than_3 += 1\n",
    "        if roll % 2 == 0:\n",
    "            count_even_given_greater_than_3 += 1\n",
    "\n",
    "# Estimated conditional probability\n",
    "prob_even_given_greater_than_3 = count_even_given_greater_than_3 / count_greater_than_3\n",
    "print(f\"Estimated Probability of rolling an even number given that the roll is greater than 3: {prob_even_given_greater_than_3}\")"
   ]
  },
  {
   "cell_type": "markdown",
   "metadata": {},
   "source": [
    "****\n",
    "\n",
    "## **Bayes' Theorem**\n",
    "Bayes' theorem allows us to revise out beliefs in light of new evidence. It helps us calculate the probability of an event after considering new information.\n",
    "\n",
    "### <ins>Definition</ins>\n",
    "Bayes' theorem provides a way to update the probability of a hypothesis, $A$, given new evidence, $B$. It combines prior knowledge with new data to give a posterior probability. \n",
    "\n",
    "The formula is: \n",
    "$$\n",
    "P(A|B) = \\frac{P(B|A) \\times P(A)}{P(B)}\n",
    "$$\n",
    "\n",
    "where:\n",
    "- $P(A|B)$ is the posterior probability: the probability of $A$ given $B$ (what we are trying to find).\n",
    "- $P(B|A)$ is the likelihood: the probability of $B$ given $A$.\n",
    "- $P(A)$ is the prior probability: the initial probability $A$.\n",
    "- $P(B)$ is the marginal likelihood: the total probability of $B$.\n",
    "\n",
    "### <ins>Examples</ins>\n",
    "Since probability as a subject is somewhat lesser-abstract concept, it is beneficial to understand it with real-world examples as we saw earlier. We are going to do the same here and hopefully that formula makes more sense. "
   ]
  }
 ],
 "metadata": {
  "kernelspec": {
   "display_name": ".venv",
   "language": "python",
   "name": "python3"
  },
  "language_info": {
   "codemirror_mode": {
    "name": "ipython",
    "version": 3
   },
   "file_extension": ".py",
   "mimetype": "text/x-python",
   "name": "python",
   "nbconvert_exporter": "python",
   "pygments_lexer": "ipython3",
   "version": "3.10.5"
  }
 },
 "nbformat": 4,
 "nbformat_minor": 2
}
