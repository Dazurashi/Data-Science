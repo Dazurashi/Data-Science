{
 "cells": [
  {
   "cell_type": "markdown",
   "metadata": {},
   "source": [
    "# <ins>**Probability Theory**</ins>\n",
    "\n",
    "## **Importance to Data Science**\n",
    "Probability is the foundation of statistical methods. It plays a key role in data science themes like probabilistic models such as *Bayesian networks* and *Gaussian processes*, further expanding to machine learning algorithms. It is also critical to understand probability theory when doing error analysis and risk assessments. In this document we wont dive deep into any of these subjects but explore the core basics of understanding several probability concepts. However you might see these fancier applications in the future documents. Overall, probability theory provides the mathematical framework and tools necessary for dealing with the inherent uncertainty and variability in data, making it indispensable in data science for analysis, modeling, prediction, and decision-making.\n"
   ]
  },
  {
   "cell_type": "markdown",
   "metadata": {},
   "source": [
    "****\n",
    "\n",
    "## **Basic Probability**\n",
    "\n",
    "### <ins>Definitions</ins>\n",
    "If you read the past documents before jumping into this one, you might feel like being on a vacation because a lot of concepts in probability are easier to understand than in linear algebra or calculus. This is my \"unbiased\" opinion.\n",
    "\n",
    "First we should define few reoccurring words that you will see throughout the document:\n",
    "- **Probability**: The likelyhood that an event will occur, ranging from 0 (impossible event) to 1 (certain event).\n",
    "- **Experiment**: An activity with uncertain outcome, rolling a die.\n",
    "- **Sample Space $(S)$**: The set of all possible outcomes of an experiment. For example $S = \\{1, 2, 3, 4, 5, 6\\}$ for a die roll.\n",
    "- **Event**: A subset of the sample space. For example rolling an even number $A = \\{2,4,6\\}$.\n",
    "\n",
    "### <ins>Calculating Probability</ins>\n",
    "- The probability of an event $A$ occurring is:\n",
    "$$\n",
    "P(A) = \\frac{\\text{Number of favorable outcomes}}{\\text{Total number of possible outcomes}}\n",
    "$$\n",
    "\n",
    "Makes common sense if you think about it. Now here are couple examples:\n",
    "\n",
    "1. Rolling a die:\n",
    "    - Sample space: $S$ = \\{1,2,3,4,5,6\\}\n",
    "    - Event: Rolling a $3$\n",
    "    - Probability:\n",
    "    $$\n",
    "    P(\\text{Drawing an Ace}) = \\frac{1}{6}\n",
    "    $$\n",
    "\n",
    "2. Drawing a card from a deck\n",
    "    - Sample space: 52 cards\n",
    "    - Event: Drawing an ace\n",
    "    - Probability\n",
    "    $$\n",
    "    P(\\text{Drawing an ace}) = \\frac{4}{52} = \\frac{1}{13}\n",
    "    $$\n",
    "\n",
    "### <ins>Probability Rules</ins>\n",
    "There are way more rules than listed in this document, but here are the basic ones you should know:\n",
    "\n",
    "- **Complementary Events**: The probability of the complement of an event $A$ (denoted as $A^c$) is:\n",
    "$$\n",
    "P(A^c) = 1 - P(A)\n",
    "$$\n",
    "\n",
    "- **Union of Events**: The probability that either event $A$ or event $B$ occurs (or both):\n",
    "$$\n",
    "P(A \\cup B) = P(A) + P(B) - P(A \\cap B)\n",
    "$$\n",
    "\n",
    "- **Intersection of Events**: The probability that both events $A$ and $B$ occur (if $A$ and $B$ are independent):\n",
    "$$\n",
    "P(A \\cap B) = P(A) \\times P(B)\n",
    "$$\n",
    "\n",
    "### <ins>Python Examples of Basic Probability</ins>\n",
    "Here are few examples of how to calculate basic probabilities in Python as well as applying probability rules\n",
    "\n",
    "#### Rolling a Die"
   ]
  },
  {
   "cell_type": "code",
   "execution_count": 1,
   "metadata": {},
   "outputs": [
    {
     "name": "stdout",
     "output_type": "stream",
     "text": [
      "Estimated Probability of rolling a 3: 0.1671\n"
     ]
    }
   ],
   "source": [
    "import random\n",
    "\n",
    "# Simulate rolling a die\n",
    "def roll_die():\n",
    "    return random.randint(1, 6)\n",
    "\n",
    "# Number of simulations\n",
    "num_simulations = 100000\n",
    "count_3 = 0\n",
    "\n",
    "for _ in range(num_simulations):\n",
    "    if roll_die() == 3:\n",
    "        count_3 += 1\n",
    "\n",
    "# Estimated probability\n",
    "prob_3 = count_3 / num_simulations\n",
    "print(f\"Estimated Probability of rolling a 3: {prob_3}\")"
   ]
  },
  {
   "cell_type": "markdown",
   "metadata": {},
   "source": [
    "#### Drawing a Card from a Deck"
   ]
  },
  {
   "cell_type": "code",
   "execution_count": 2,
   "metadata": {},
   "outputs": [
    {
     "name": "stdout",
     "output_type": "stream",
     "text": [
      "Estimated Probability of drawing an Ace: 0.07553\n"
     ]
    }
   ],
   "source": [
    "# Simulate drawing a card\n",
    "def draw_card():\n",
    "    deck = ['Ace'] * 4 + ['Non-Ace'] * 48\n",
    "    return random.choice(deck)\n",
    "\n",
    "# Number of simulations\n",
    "num_simulations = 100000\n",
    "count_ace = 0\n",
    "\n",
    "for _ in range(num_simulations):\n",
    "    if draw_card() == 'Ace':\n",
    "        count_ace += 1\n",
    "\n",
    "# Estimated probability\n",
    "prob_ace = count_ace / num_simulations\n",
    "print(f\"Estimated Probability of drawing an Ace: {prob_ace}\")"
   ]
  },
  {
   "cell_type": "markdown",
   "metadata": {},
   "source": [
    "#### Complementary Events"
   ]
  },
  {
   "cell_type": "code",
   "execution_count": 3,
   "metadata": {},
   "outputs": [
    {
     "name": "stdout",
     "output_type": "stream",
     "text": [
      "Probability of drawing a non-Ace card: 0.9230769230769231\n"
     ]
    }
   ],
   "source": [
    "# Probability of drawing a non-Ace card\n",
    "prob_non_ace = 1 - (4 / 52)\n",
    "print(f\"Probability of drawing a non-Ace card: {prob_non_ace}\")"
   ]
  },
  {
   "cell_type": "markdown",
   "metadata": {},
   "source": [
    "#### Union of Events (Rolling a 2 or 4)"
   ]
  },
  {
   "cell_type": "code",
   "execution_count": 4,
   "metadata": {},
   "outputs": [
    {
     "name": "stdout",
     "output_type": "stream",
     "text": [
      "Estimated Probability of rolling a 2 or 4: 0.33383\n"
     ]
    }
   ],
   "source": [
    "# Simulate rolling a die\n",
    "def roll_die():\n",
    "    return random.randint(1, 6)\n",
    "\n",
    "# Number of simulations\n",
    "num_simulations = 100000\n",
    "count_2_or_4 = 0\n",
    "\n",
    "for _ in range(num_simulations):\n",
    "    if roll_die() in [2, 4]:\n",
    "        count_2_or_4 += 1\n",
    "\n",
    "# Estimated probability\n",
    "prob_2_or_4 = count_2_or_4 / num_simulations\n",
    "print(f\"Estimated Probability of rolling a 2 or 4: {prob_2_or_4}\")"
   ]
  },
  {
   "cell_type": "markdown",
   "metadata": {},
   "source": [
    "#### Intersection of Independent Events (Rolling a 2 and flipping a head)"
   ]
  },
  {
   "cell_type": "code",
   "execution_count": 5,
   "metadata": {},
   "outputs": [
    {
     "name": "stdout",
     "output_type": "stream",
     "text": [
      "Estimated Probability of rolling a 2 and flipping Heads: 0.08533\n"
     ]
    }
   ],
   "source": [
    "# Simulate flipping a coin\n",
    "def flip_coin():\n",
    "    return random.choice(['Heads', 'Tails'])\n",
    "\n",
    "# Number of simulations\n",
    "num_simulations = 100000\n",
    "count_2_and_heads = 0\n",
    "\n",
    "for _ in range(num_simulations):\n",
    "    if roll_die() == 2 and flip_coin() == 'Heads':\n",
    "        count_2_and_heads += 1\n",
    "\n",
    "# Estimated probability\n",
    "prob_2_and_heads = count_2_and_heads / num_simulations\n",
    "print(f\"Estimated Probability of rolling a 2 and flipping Heads: {prob_2_and_heads}\")"
   ]
  }
 ],
 "metadata": {
  "kernelspec": {
   "display_name": ".venv",
   "language": "python",
   "name": "python3"
  },
  "language_info": {
   "codemirror_mode": {
    "name": "ipython",
    "version": 3
   },
   "file_extension": ".py",
   "mimetype": "text/x-python",
   "name": "python",
   "nbconvert_exporter": "python",
   "pygments_lexer": "ipython3",
   "version": "3.10.5"
  }
 },
 "nbformat": 4,
 "nbformat_minor": 2
}
