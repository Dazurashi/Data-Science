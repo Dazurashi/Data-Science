{
 "cells": [
  {
   "cell_type": "markdown",
   "metadata": {},
   "source": [
    "# <ins>**Calculus**</ins>"
   ]
  },
  {
   "cell_type": "markdown",
   "metadata": {},
   "source": [
    "## **Importance to Data Science**\n",
    "\n",
    "Calculus helps in finding the minimum or maximum values of a function, which is essential in optimization algorithms. For instance in machine learning you often want to minimize a loss function to improve the accuracy of your model. Calculus will also allow us to understand how changes in input values affect the output. This is important in predictive modeling, where you need to understand the sensitivity of your predictions to changes in the data. Not to mention how many real world phenomena are continuous, and calculus provides the tools to model and analyze those systems. This is particularly relevant in fields like physics, biology and finance where data can be modeled using continuous functions. \n",
    "\n",
    "One of the popular applications of calculus - which we will talk about later in this document - is *gradient decent* in machine learning. Another very useful application is to use calculus in predictive maintenance. This is where you would use the help of calculus to model the degradation process of machine parts over time in a mechanical system. By understanding the rate of change in the condition of the machine parts, a company can predict when the maintenance is needed and perform it beforehand to avoid larger downtime."
   ]
  },
  {
   "cell_type": "markdown",
   "metadata": {},
   "source": [
    "****\n",
    "\n",
    "## **Limits**\n",
    "\n",
    "### <ins>What is a Limit?</ins>\n",
    "\n",
    "### <ins>Formal Definition</ins>\n",
    "\n",
    "### <ins>Basic Examples</ins>\n",
    "\n",
    "### <ins>Limits Approaching Zero</ins>\n",
    "\n",
    "### <ins>Limits Approaching Infinity</ins>\n"
   ]
  },
  {
   "cell_type": "markdown",
   "metadata": {},
   "source": [
    "****\n",
    "\n",
    "## **Differentiation**\n",
    "\n",
    "### <ins>What is Differentiation?</ins>\n",
    "Differentiation is a concept from calculus that deals with finidng the rate which a function is changing at any given point. In simpler terms, it tells us how one quantity changes in response to changes in another quantity. \n",
    "\n",
    "The key terms are:\n",
    "- **Function**: A relationship between two variables, usually written as $f(x)$ where $x$ is the input and $f(x)$ is the output. \n",
    "- **Derivative**: The result of differentiation, representing the rate of change of the function.\n",
    "\n",
    "### <ins>The Basic Idea of a Derivative</ins>\n",
    "Imagine you are driving a car and you want to know how fast you are going at a particular moment. The speedometer shows your speed, which is the derivative of your position with respect to time. \n",
    "\n",
    "In mathematical terms:\n",
    "- If $s(t)$ represents your position at time $t$,\n",
    "- The speed, or the derivative of $s(t)$ is $\\frac{ds(t)}{dt}$. Here the $d$ represents the change. Often, especially in physics denoted as $\\Delta$ (delta)\n",
    "\n",
    "### <ins>How to Calculate a Derivative</ins>\n"
   ]
  }
 ],
 "metadata": {
  "language_info": {
   "name": "python"
  }
 },
 "nbformat": 4,
 "nbformat_minor": 2
}
